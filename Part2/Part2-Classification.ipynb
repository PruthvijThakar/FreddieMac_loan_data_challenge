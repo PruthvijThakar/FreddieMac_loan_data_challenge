{
 "cells": [
  {
   "cell_type": "code",
   "execution_count": 193,
   "metadata": {
    "collapsed": false
   },
   "outputs": [
    {
     "name": "stderr",
     "output_type": "stream",
     "text": [
      "/gpfs/fs01/user/sff7-58a84c67e1da6e-fa49d0174b0c/.local/lib/python3.5/site-packages/sklearn/utils/validation.py:526: DataConversionWarning: A column-vector y was passed when a 1d array was expected. Please change the shape of y to (n_samples, ), for example using ravel().\n",
      "  y = column_or_1d(y, warn=True)\n"
     ]
    },
    {
     "name": "stdout",
     "output_type": "stream",
     "text": [
      "[[236054  10590]\n",
      " [  2686    670]]\n",
      "{'No_of_records': 250000, 'No_of_actual_delq': 221, 'No_of_delq_properly_classified': 202, 'No_of_pred_delq': 11260, 'No_of_nonDelq_improperly_classified_as_delq': 11058}\n"
     ]
    }
   ],
   "source": [
    "from io import StringIO\n",
    "import requests\n",
    "import json\n",
    "import pandas as pd\n",
    "import numpy as np\n",
    "from sklearn import preprocessing\n",
    "\n",
    "# @hidden_cell\n",
    "# This function accesses a file in your Object Storage. The definition contains your credentials.\n",
    "# You might want to remove those credentials before you share your notebook.\n",
    "data_chunks = pd.read_csv('historical_data1_time_Q12005.txt',low_memory=False,sep=\"|\", nrows=250000)\n",
    "data_chunks1 = pd.read_csv('historical_data1_time_Q22005.txt',low_memory=False,sep=\"|\", nrows=250000)\n",
    "#data_1 = pd.concat(data_chunks, ignore_index=True)\n",
    "def compute_Matrix(data_chunks,data_chunks1):\n",
    "    y_train = pd.DataFrame(data_chunks['new_delinq'])\n",
    "    y_test = pd.DataFrame(data_chunks1['new_delinq'])\n",
    "    x_train_raw = data_chunks\n",
    "    x_train = preprocessing.minmax_scale(x_train_raw)\n",
    "    y_train_raw = data_chunks1\n",
    "    x_test = preprocessing.minmax_scale(y_train_raw)\n",
    "    logreg = LogisticRegression()\n",
    "    logreg.fit(x_train, y_train)\n",
    "    y_train_estimated = logreg.predict(x_train)\n",
    "    y_test_estimated = logreg.predict(x_test)\n",
    "    conf_mat = metrics.confusion_matrix(y_test_estimated,y_test)\n",
    "    print(conf_mat_logred)\n",
    "    No_of_actual_delq = conf_mat[1][0] + conf_mat[1][1]\n",
    "    No_of_pred_delq = conf_mat[0][1] + conf_mat[1][1]\n",
    "    No_of_records = conf_mat[0][1] + conf_mat[1][1] + conf_mat[1][0] + conf_mat[0][0]\n",
    "    No_of_delq_properly_classified = conf_mat[1][1]\n",
    "    No_of_nonDelq_improperly_classified_as_delq = conf_mat[0][1]\n",
    "    output = {'No_of_actual_delq':No_of_actual_delq,\n",
    "           'No_of_pred_delq':No_of_pred_delq,\n",
    "           'No_of_records':No_of_records,\n",
    "           'No_of_delq_properly_classified':No_of_delq_properly_classified,\n",
    "           'No_of_nonDelq_improperly_classified_as_delq':No_of_nonDelq_improperly_classified_as_delq}\n",
    "    print(output) \n",
    "\n",
    "\n",
    "def clean_data(data_chunks):\n",
    "    data_chunks.columns = ['id_loan','svcg_cycle','current_upb','delq_sts','loan_age','mths_remng',\n",
    "                           'repch_flag','flag_mod', 'cd_zero_bal',\n",
    "                           'dt_zero_bal','current_int_rt','non_int_brng_upb','dt_lst_pi','mi_recoveries',\n",
    "                           'net_sale_proceeds','non_mi_recoveries','expenses', 'legal_costs',\n",
    "                           'maint_pres_costs','taxes_ins_costs','misc_costs','actual_loss', 'modcost']\n",
    "\n",
    "    for i, row in data_chunks.iterrows():\n",
    "            data_chunks.set_value(i,'svcg_cycle',((int(str(row['svcg_cycle'])[:4]) - 1990)*12*30 + (int(str(row['svcg_cycle'])[4:6])*30)))\n",
    "\n",
    "    data_chunks.delq_sts.replace('R', 1 , inplace = True)\n",
    "    data_chunks.delq_sts.replace('XX', 1 , inplace = True)\n",
    "    data_chunks.delq_sts = data_chunks.delq_sts.astype('float64')     \n",
    "\n",
    "\n",
    "    data_chunks.repch_flag.replace(np.nan, 2 , inplace = True)\n",
    "    data_chunks.repch_flag.replace('N', 0 , inplace = True)\n",
    "    data_chunks.repch_flag.replace('Y', 1 , inplace = True)\n",
    "    data_chunks.repch_flag = data_chunks.repch_flag.astype('float64')\n",
    "\n",
    "    data_chunks.flag_mod.replace(np.nan,0,inplace = True)\n",
    "    data_chunks.flag_mod.replace('Y',1,inplace = True)\n",
    "    data_chunks.flag_mod = data_chunks.flag_mod.astype('float64')\n",
    "\n",
    "    data_chunks.cd_zero_bal.replace(np.nan,0,inplace = True)\n",
    "    data_chunks.cd_zero_bal = data_chunks.cd_zero_bal.astype('float64')\n",
    "\n",
    "    data_chunks.dt_zero_bal.replace(np.nan,0,inplace = True)\n",
    "    data_chunks.dt_zero_bal = data_chunks.dt_zero_bal.astype('int64')\n",
    "\n",
    "    for i, row in data_chunks.iterrows():\n",
    "        if (row['dt_zero_bal'] > 0):\n",
    "            data_chunks.set_value(i,'dt_zero_bal',((int(str(row['dt_zero_bal'])[:4]) - 1990)*12*30 + (int(str(row['dt_zero_bal'])[4:6])*30)))\n",
    "\n",
    "    data_chunks.dt_lst_pi.replace(np.nan,0,inplace = True)\n",
    "    data_chunks.dt_lst_pi = data_chunks.dt_lst_pi.astype('int64')\n",
    "\n",
    "    for i, row in data_chunks.iterrows():\n",
    "        if (row['dt_lst_pi'] > 0):\n",
    "            data_chunks.set_value(i,'dt_lst_pi',((int(str(row['dt_lst_pi'])[:4]) - 1990)*12*30 + (int(str(row['dt_lst_pi'])[4:6])*30)))\n",
    "\n",
    "    data_chunks.mi_recoveries.replace(np.nan,0,inplace = True)\t\n",
    "\n",
    "    data_chunks.non_mi_recoveries.replace(np.nan, 0,inplace = True)\n",
    "\n",
    "    data_chunks.net_sale_proceeds.replace(np.nan, 0,inplace = True)\n",
    "    data_chunks.net_sale_proceeds.replace('C', 1, inplace = True)\n",
    "    data_chunks.net_sale_proceeds.replace('U', 0, inplace = True)\n",
    "    data_chunks.net_sale_proceeds = data_chunks.net_sale_proceeds.astype('float64')\n",
    "\n",
    "    data_chunks.expenses.replace(np.nan, 0,inplace = True)\n",
    "    data_chunks.legal_costs.replace(np.nan, 0,inplace = True)\n",
    "    data_chunks.maint_pres_costs.replace(np.nan, 0,inplace = True)\n",
    "    data_chunks.taxes_ins_costs.replace(np.nan, 0,inplace = True)\n",
    "    data_chunks.misc_costs.replace(np.nan, 0,inplace = True)\n",
    "    data_chunks.actual_loss.replace(np.nan, 0,inplace = True)\n",
    "    data_chunks.modcost.replace(np.nan, 0,inplace = True)\n",
    "    data_chunks['new_delinq'] = (data_chunks.delq_sts > 0.0).astype('float64')\n",
    "    return data_chunks   \n",
    "\n",
    "\n",
    "\n",
    "data_chunks = clean_data(data_chunks)\n",
    "data_chunks1 = clean_data(data_chunks1)\n",
    "compute_Matrix(data_chunks,data_chunks1)\n",
    "\n"
   ]
  },
  {
   "cell_type": "code",
   "execution_count": 163,
   "metadata": {
    "collapsed": false
   },
   "outputs": [
    {
     "name": "stdout",
     "output_type": "stream",
     "text": [
      "Warning: Maximum number of iterations has been exceeded.\n",
      "         Current function value: 0.148488\n",
      "         Iterations: 35\n"
     ]
    },
    {
     "name": "stderr",
     "output_type": "stream",
     "text": [
      "/usr/local/src/conda3_runtime.v14/4.1.1/lib/python3.5/site-packages/statsmodels/base/model.py:466: ConvergenceWarning: Maximum Likelihood optimization failed to converge. Check mle_retvals\n",
      "  \"Check mle_retvals\", ConvergenceWarning)\n"
     ]
    },
    {
     "name": "stdout",
     "output_type": "stream",
     "text": [
      "                           Logit Regression Results                           \n",
      "==============================================================================\n",
      "Dep. Variable:             new_delinq   No. Observations:               250000\n",
      "Model:                          Logit   Df Residuals:                   249984\n",
      "Method:                           MLE   Df Model:                           15\n",
      "Date:                Thu, 20 Jul 2017   Pseudo R-squ.:                 0.07491\n",
      "Time:                        16:40:47   Log-Likelihood:                -37122.\n",
      "converged:                      False   LL-Null:                       -40128.\n",
      "                                        LLR p-value:                     0.000\n",
      "=====================================================================================\n",
      "                        coef    std err          z      P>|z|      [95.0% Conf. Int.]\n",
      "-------------------------------------------------------------------------------------\n",
      "svcg_cycle           -0.0008      0.000     -6.159      0.000        -0.001    -0.001\n",
      "current_upb        1.615e-06   1.52e-07     10.617      0.000      1.32e-06  1.91e-06\n",
      "loan_age              0.0499      0.004     12.057      0.000         0.042     0.058\n",
      "mths_remng            0.0082      0.000     23.368      0.000         0.008     0.009\n",
      "repch_flag           -1.8012      0.349     -5.168      0.000        -2.484    -1.118\n",
      "flag_mod              5.6968      0.603      9.452      0.000         4.516     6.878\n",
      "cd_zero_bal           1.4897      0.289      5.153      0.000         0.923     2.056\n",
      "dt_zero_bal          -0.0007   9.84e-05     -7.298      0.000        -0.001    -0.001\n",
      "current_int_rt        0.1116      0.025      4.533      0.000         0.063     0.160\n",
      "non_int_brng_upb  -1.649e-05   4.29e-06     -3.841      0.000     -2.49e-05 -8.08e-06\n",
      "mi_recoveries         0.0004    119.074   3.06e-06      1.000      -233.380   233.381\n",
      "net_sale_proceeds     0.0001      0.000      0.501      0.616        -0.000     0.001\n",
      "non_mi_recoveries     0.0478   4091.397   1.17e-05      1.000     -8018.943  8019.039\n",
      "legal_costs          -0.0230    584.375  -3.93e-05      1.000     -1145.377  1145.331\n",
      "taxes_ins_costs      -0.0007     38.204  -1.73e-05      1.000       -74.878    74.877\n",
      "modcost           -9.521e-06   1.73e-05     -0.549      0.583     -4.35e-05  2.45e-05\n",
      "=====================================================================================\n"
     ]
    }
   ],
   "source": [
    "import statsmodels.api as sm\n",
    "import numpy as np\n",
    "from statsmodels.formula.api import logit,probit,poisson,ols\n",
    "train_cols = data_chunks.columns[1]\n",
    "#df1 = data_chunks.ix[0,3:5].copy()\n",
    "df1 = data_chunks[[1,2,4,5,6,7,8,9,10,11,13,14,15,17,19,22]]\n",
    "#df1.dtypes\n",
    "#np.asarray(df1).dtypes\n",
    "logit = sm.Logit(data_chunks['new_delinq'],df1)\n",
    "pred_mod = logit.fit()\n",
    "print(pred_mod.summary())"
   ]
  },
  {
   "cell_type": "code",
   "execution_count": 190,
   "metadata": {
    "collapsed": true
   },
   "outputs": [],
   "source": [
    "df_selected = data_chunks[['svcg_cycle','current_upb','loan_age','mths_remng','repch_flag','flag_mod','cd_zero_bal','dt_zero_bal','current_int_rt','non_int_brng_upb']]\n",
    "df_selected1 = data_chunks1[['svcg_cycle','current_upb','loan_age','mths_remng','repch_flag','flag_mod','cd_zero_bal','dt_zero_bal','current_int_rt','non_int_brng_upb']]\n",
    "\n",
    "x_train_raw = df_selected\n",
    "x_train = preprocessing.minmax_scale(x_train_raw)\n",
    "y_train_raw = df_selected1\n",
    "x_test = preprocessing.minmax_scale(y_train_raw)"
   ]
  },
  {
   "cell_type": "code",
   "execution_count": 186,
   "metadata": {
    "collapsed": false
   },
   "outputs": [
    {
     "name": "stderr",
     "output_type": "stream",
     "text": [
      "/gpfs/fs01/user/sff7-58a84c67e1da6e-fa49d0174b0c/.local/lib/python3.5/site-packages/sklearn/utils/validation.py:526: DataConversionWarning: A column-vector y was passed when a 1d array was expected. Please change the shape of y to (n_samples, ), for example using ravel().\n",
      "  y = column_or_1d(y, warn=True)\n"
     ]
    },
    {
     "name": "stdout",
     "output_type": "stream",
     "text": [
      "[[238732  11047]\n",
      " [     8    213]]\n"
     ]
    },
    {
     "data": {
      "image/png": "[encoded data removed]",
      "text/plain": [
       "<matplotlib.figure.Figure at 0x7f0777f70f60>"
      ]
     },
     "metadata": {},
     "output_type": "display_data"
    }
   ],
   "source": [
    "from sklearn import preprocessing, cross_validation\n",
    "from sklearn.linear_model import LogisticRegression\n",
    "from sklearn.feature_selection import RFE\n",
    "from sklearn.model_selection import cross_val_score\n",
    "from sklearn import metrics\n",
    "from sklearn.metrics import roc_curve\n",
    "from sklearn.decomposition import PCA\n",
    "%matplotlib inline\n",
    "from matplotlib import pyplot as plt\n",
    "# import matplotlib\n",
    "# matplotlib.use('agg')\n",
    "# import pylab as plt\n",
    "\n",
    "\n",
    "\n",
    "\n",
    "fpr, tpr, _ = metrics.roc_curve(y_test, y_test_estimated)\n",
    "    \n",
    "plt.figure()\n",
    "plt.plot(fpr,tpr,label = 'ROC curve')\n",
    "plt.plot([0,1],[0,1],'k--')\n",
    "plt.xlim([0.0,1.0])\n",
    "plt.ylim([0.0,1.05])\n",
    "plt.xlabel('1-Sensitivity(false_positive_rate)')\n",
    "plt.ylabel('Sensitivity(true_positive_rate)')\n",
    "plt.title('ROC Curve')\n",
    "plt.legend(loc = \"lower right\")\n",
    "plt.show()"
   ]
  },
  {
   "cell_type": "code",
   "execution_count": 191,
   "metadata": {
    "collapsed": false
   },
   "outputs": [
    {
     "name": "stderr",
     "output_type": "stream",
     "text": [
      "/usr/local/src/conda3_runtime.v14/4.1.1/lib/python3.5/site-packages/ipykernel/__main__.py:4: DataConversionWarning: A column-vector y was passed when a 1d array was expected. Please change the shape of y to (n_samples,), for example using ravel().\n"
     ]
    },
    {
     "name": "stdout",
     "output_type": "stream",
     "text": [
      "[[236054  10590]\n",
      " [  2686    670]]\n"
     ]
    },
    {
     "data": {
      "image/png": "[encoded data removed]",
      "text/plain": [
       "<matplotlib.figure.Figure at 0x7f07ed961c18>"
      ]
     },
     "metadata": {},
     "output_type": "display_data"
    }
   ],
   "source": [
    "from sklearn.ensemble import RandomForestClassifier\n",
    "\n",
    "rf = RandomForestClassifier(n_estimators=50)\n",
    "rf.fit(x_train, y_train)\n",
    "\n",
    "y_train_estimated = rf.predict(x_train)\n",
    "y_test_estimated = rf.predict(x_test)\n",
    "\n",
    "     \n",
    "conf_mat_logred = metrics.confusion_matrix(y_test_estimated,y_test)\n",
    "print(conf_mat_logred)\n",
    "\n",
    "fpr, tpr, _ = metrics.roc_curve(y_test, y_test_estimated)\n",
    "    \n",
    "plt.figure()\n",
    "plt.plot(fpr,tpr,label = 'ROC curve')\n",
    "plt.plot([0,1],[0,1],'k--')\n",
    "plt.xlim([0.0,1.0])\n",
    "plt.ylim([0.0,1.05])\n",
    "plt.xlabel('1-Sensitivity(false_positive_rate)')\n",
    "plt.ylabel('Sensitivity(true_positive_rate)')\n",
    "plt.title('ROC Curve')\n",
    "plt.legend(loc = \"lower right\")\n",
    "plt.show()"
   ]
  },
  {
   "cell_type": "code",
   "execution_count": 188,
   "metadata": {
    "collapsed": false
   },
   "outputs": [
    {
     "name": "stderr",
     "output_type": "stream",
     "text": [
      "/gpfs/fs01/user/sff7-58a84c67e1da6e-fa49d0174b0c/.local/lib/python3.5/site-packages/sklearn/neural_network/multilayer_perceptron.py:904: DataConversionWarning: A column-vector y was passed when a 1d array was expected. Please change the shape of y to (n_samples, ), for example using ravel().\n",
      "  y = column_or_1d(y, warn=True)\n"
     ]
    },
    {
     "name": "stdout",
     "output_type": "stream",
     "text": [
      "[[238735  11025]\n",
      " [     5    235]]\n"
     ]
    },
    {
     "data": {
      "image/png": "[encoded data removed]",
      "text/plain": [
       "<matplotlib.figure.Figure at 0x7f0779ed1cc0>"
      ]
     },
     "metadata": {},
     "output_type": "display_data"
    }
   ],
   "source": [
    "from sklearn.neural_network import MLPClassifier\n",
    "\n",
    "nn = MLPClassifier()\n",
    "\n",
    "nn.fit(x_train, y_train)\n",
    "\n",
    "y_train_estimated = nn.predict(x_train)\n",
    "y_test_estimated = nn.predict(x_test)\n",
    "\n",
    "     \n",
    "conf_mat_logred = metrics.confusion_matrix(y_test_estimated,y_test)\n",
    "print(conf_mat_logred)\n",
    "\n",
    "fpr, tpr, _ = metrics.roc_curve(y_test, y_test_estimated)\n",
    "    \n",
    "plt.figure()\n",
    "plt.plot(fpr,tpr,label = 'ROC curve')\n",
    "plt.plot([0,1],[0,1],'k--')\n",
    "plt.xlim([0.0,1.0])\n",
    "plt.ylim([0.0,1.05])\n",
    "plt.xlabel('1-Sensitivity(false_positive_rate)')\n",
    "plt.ylabel('Sensitivity(true_positive_rate)')\n",
    "plt.title('ROC Curve')\n",
    "plt.legend(loc = \"lower right\")\n",
    "plt.show()\n",
    "\n",
    "\n",
    "    "
   ]
  }
 ],
 "metadata": {
  "anaconda-cloud": {},
  "kernelspec": {
   "display_name": "Python [conda root]",
   "language": "python",
   "name": "conda-root-py"
  },
  "language_info": {
   "codemirror_mode": {
    "name": "ipython",
    "version": 3
   },
   "file_extension": ".py",
   "mimetype": "text/x-python",
   "name": "python",
   "nbconvert_exporter": "python",
   "pygments_lexer": "ipython3",
   "version": "3.5.2"
  }
 },
 "nbformat": 4,
 "nbformat_minor": 1
}
