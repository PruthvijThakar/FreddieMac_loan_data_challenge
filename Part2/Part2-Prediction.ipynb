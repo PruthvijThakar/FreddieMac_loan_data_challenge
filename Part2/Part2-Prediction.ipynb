{
 "cells": [
  {
   "cell_type": "code",
   "execution_count": 20,
   "metadata": {
    "collapsed": true
   },
   "outputs": [],
   "source": [
    "from io import StringIO\n",
    "import requests\n",
    "import json\n",
    "import pandas as pd\n",
    "import numpy as np\n",
    "from sklearn import preprocessing\n",
    "\n",
    " \n",
    "#data_1.head\n",
    "data_chunk_1 = pd.read_csv('historical_data1_Q42009.txt', low_memory=False,sep=\"|\", header = None)\n",
    "data_chunk_2 = pd.read_csv('historical_data1_Q12010.txt', low_memory=False,sep=\"|\", header = None) \n",
    "\n",
    "def preprocess(data_1):\n",
    "\n",
    "    data_1.columns = ['fico','dt_first_pi','flag_fthb','dt_matr','cd_msa',\"mi_pct\",'cnt_units',\n",
    "                      'occpy_sts','cltv','dti','orig_upb','ltv','int_rt','channel','ppmt_pnlty',\n",
    "                      'prod_type','st', 'prop_type','zipcode','id_loan','loan_purpose', \n",
    "                      'orig_loan_term','cnt_borr','seller_name','servicer_name', 'flag_sc']\n",
    "\n",
    "    data_1.fico = data_1.fico.replace(r'\\s+', np.nan, regex=True).astype('float64')\n",
    "    data_1.update(data_1[['fico']].fillna(data_1['fico'].mode()[0]))\n",
    "\n",
    "\n",
    "    for i, row in data_1.iterrows():\n",
    "        data_1.set_value(i,'dt_first_pi',((int(str(row['dt_first_pi'])[:4]) - 1990)*12*30 + (int(str(row['dt_first_pi'])[4:6])*30)))\n",
    "\n",
    "    data_1.flag_fthb = data_1.flag_fthb.replace(r'\\s+', np.nan, regex=True)\n",
    "    data_1['flag_fthb'] = (data_1[['flag_fthb']].fillna(3))\n",
    "    data_1.flag_fthb.replace('N', 0 , inplace = True)\n",
    "    data_1.flag_fthb.replace('Y', 0 , inplace = True)\n",
    "    data_1.flag_fthb = data_1.flag_fthb.astype('category')\n",
    "\n",
    "    for i, row in data_1.iterrows():\n",
    "        data_1.set_value(i,'dt_matr',((int(str(row['dt_matr'])[:4]) - 1990)*12*30 + (int(str(row['dt_matr'])[4:6])*30)))\n",
    "\n",
    "    data_1.mi_pct = data_1.mi_pct.replace(r'\\s+', np.nan, regex=True)\n",
    "    data_1.mi_pct = data_1.mi_pct.astype('float64')\n",
    "    mean = data_1.mi_pct.mean()\n",
    "    data_1['mi_pct'] = (data_1[['mi_pct']].fillna(mean))\n",
    "\n",
    "    data_1.cnt_units = data_1.cnt_units.replace(r'\\s+', np.nan, regex=True)\n",
    "    data_1.update(data_1[['cnt_units']].fillna(0))\n",
    "\n",
    "    data_1.occpy_sts = data_1.occpy_sts.replace(r'\\s+', np.nan, regex=True)\n",
    "    data_1['occpy_sts'] = (data_1[['occpy_sts']].fillna(0))\n",
    "    data_1.occpy_sts.replace('O', 1 , inplace = True)\n",
    "    data_1.occpy_sts.replace('I', 2 , inplace = True)\n",
    "    data_1.occpy_sts.replace('S', 3 , inplace = True)\n",
    "    data_1.occpy_sts = data_1.occpy_sts.astype('category')\n",
    "\n",
    "    data_1.cltv = data_1.cltv.replace(r'\\s+', np.nan, regex=True).astype('float64')\n",
    "    data_1.update(data_1[['cltv']].fillna(data_1['cltv'].mean()))\n",
    "\n",
    "    data_1.dti = data_1.dti.replace(r'\\s+', np.nan, regex=True).astype('float64')\n",
    "    data_1.update(data_1[['dti']].fillna(65))\n",
    "\n",
    "    data_1.ltv = data_1.ltv.replace(r'\\s+', np.nan, regex=True)\n",
    "    data_1.ltv = data_1.ltv.astype('float64')\n",
    "    mean = data_1.ltv.mean()\n",
    "    data_1['ltv'] = (data_1[['ltv']].fillna(mean))\n",
    "    \n",
    "    data_1.int_rt = data_1.int_rt.replace(r'\\s+', np.nan, regex=True)\n",
    "    data_1.int_rt = data_1.int_rt.astype('float64')\n",
    "    mean_int_rt = data_1.int_rt.mean()\n",
    "    data_1['int_rt'] = data_1[['int_rt']].fillna(mean_int_rt)\n",
    "    data_1.int_rt = data_1.int_rt.astype('float64')\n",
    "\n",
    "    data_1.channel = data_1.channel.replace(r'\\s+', np.nan, regex=True)\n",
    "    data_1['channel'] = (data_1[['channel']].fillna(0))\n",
    "    data_1.channel.replace('R', 1 , inplace = True)\n",
    "    data_1.channel.replace('B', 2 , inplace = True)\n",
    "    data_1.channel.replace('C', 3 , inplace = True)\n",
    "    data_1.channel.replace('T', 4 , inplace = True)\n",
    "    data_1.channel = data_1.channel.astype('category')\n",
    "\n",
    "    data_1.ppmt_pnlty = data_1.ppmt_pnlty.replace(r'\\s+', np.nan, regex=True)\n",
    "    data_1['ppmt_pnlty'] = (data_1[['ppmt_pnlty']].fillna(2))\n",
    "    data_1.ppmt_pnlty.replace('Y', 1 , inplace = True)\n",
    "    data_1.ppmt_pnlty.replace('N', 0 , inplace = True)\n",
    "    data_1.ppmt_pnlty = data_1.ppmt_pnlty.astype('category')\n",
    "\n",
    "    data_1.prop_type = data_1.prop_type.replace(r'\\s+', np.nan, regex=True)\n",
    "    data_1['prop_type'] = (data_1[['prop_type']].fillna(0))\n",
    "    data_1.prop_type.replace('P', 1 , inplace = True)\n",
    "    data_1.prop_type.replace('SF', 1 , inplace = True)\n",
    "    data_1.prop_type.replace('CO', 2 , inplace = True)\n",
    "    data_1.prop_type.replace('PU', 3 , inplace = True)\n",
    "    data_1.prop_type.replace('MH', 4 , inplace = True)\n",
    "    data_1.prop_type.replace('LH', 5 , inplace = True)\n",
    "    data_1.prop_type.replace('CP', 6 , inplace = True)\n",
    "\n",
    "\n",
    "    data_1.zipcode = data_1.zipcode.replace(r'\\s+', np.nan, regex=True)\n",
    "    data_1['zipcode'] = (data_1[['zipcode']].fillna(0))\n",
    "    data_1.zipcode.replace(np.nan, 0 , inplace = True)\n",
    "\n",
    "    data_1.loan_purpose = data_1.loan_purpose.replace(r'\\s+', np.nan, regex=True)\n",
    "    data_1['loan_purpose'] = (data_1[['loan_purpose']].fillna(0))\n",
    "    data_1.loan_purpose.replace('P', 1 , inplace = True)\n",
    "    data_1.loan_purpose.replace('C', 2 , inplace = True)\n",
    "    data_1.loan_purpose.replace('N', 3 , inplace = True)\n",
    "\n",
    "    data_1.cnt_borr = data_1.cnt_borr.replace(r'\\s+', np.nan, regex=True)\n",
    "    data_1['cnt_borr'] = (data_1[['cnt_borr']].fillna(0))\n",
    "    data_1.cnt_borr = data_1.cnt_borr.astype('category')\n",
    "    \n",
    "    data_1.drop(data_1.columns[[4,7,8,9,14,15,16,17,18,19,22,23,24,25]], axis=1, inplace=True)\n",
    "\n",
    "\n",
    "    \n",
    "preprocess(data_chunk_1)\n",
    "preprocess(data_chunk_2)  \n",
    "\n",
    "y_train = data_chunk_1['int_rt']\n",
    "x_train_raw = data_chunk_1.drop('int_rt', axis=1)\n",
    "x_train = preprocessing.minmax_scale(x_train_raw)\n",
    "\n",
    "y_test = data_chunk_2['int_rt']\n",
    "x_test_raw = data_chunk_2.drop('int_rt', axis=1)\n",
    "x_test = preprocessing.minmax_scale(x_test_raw)\n",
    "# df[cols]=df.filter(cols).fillna(mode.iloc[0])"
   ]
  },
  {
   "cell_type": "markdown",
   "metadata": {},
   "source": [
    "### RMS,MAE and MAPE values for train data - Q12005 and test data - Q22005 using Linear Regression"
   ]
  },
  {
   "cell_type": "code",
   "execution_count": 17,
   "metadata": {
    "collapsed": false
   },
   "outputs": [
    {
     "name": "stdout",
     "output_type": "stream",
     "text": [
      "rms_train =  0.0859702808563    rms_test =  0.510252778377\n",
      "mae_train =  0.216502405869    mae_test =  0.64888928624\n",
      "mape_train =  3.8283712478022625    mape_test =  11.008430184214205\n"
     ]
    }
   ],
   "source": [
    "from sklearn import preprocessing\n",
    "from sklearn.linear_model import LinearRegression\n",
    "from sklearn.metrics import mean_squared_error, mean_absolute_error\n",
    "\n",
    "\n",
    "lm = LinearRegression()\n",
    "lm.fit(x_train, y_train)\n",
    "\n",
    "data_estimate_train = lm.predict(x_train)\n",
    "data_estimate_test = lm.predict(x_test)\n",
    "\n",
    "rms_train = mean_squared_error(y_train, data_estimate_train)\n",
    "rms_test = mean_squared_error(y_test, data_estimate_test)\n",
    "\n",
    "mae_train = mean_absolute_error(y_train, data_estimate_train)\n",
    "mae_test = mean_absolute_error(y_test, data_estimate_test)\n",
    "\n",
    "\n",
    "mape_train = np.mean(np.abs((y_train - data_estimate_train) / y_train)) * 100\n",
    "mape_test = np.mean(np.abs((y_test - data_estimate_test) / y_test)) * 100\n",
    "\n",
    "#data_estimate_test\n",
    "#y_test\n",
    "\n",
    "print(\"rms_train = \",rms_train,\"   rms_test = \",rms_test )\n",
    "print(\"mae_train = \" ,mae_train ,\"   mae_test = \",mae_test )\n",
    "print(\"mape_train = \" ,float(mape_train),\"   mape_test = \",float(mape_test))\n"
   ]
  },
  {
   "cell_type": "markdown",
   "metadata": {},
   "source": [
    "### RMS,MAE and MAPE values for train data - Q12005 and test data - Q22005 using Random ForestAlgorithm"
   ]
  },
  {
   "cell_type": "code",
   "execution_count": 14,
   "metadata": {
    "collapsed": false
   },
   "outputs": [
    {
     "name": "stdout",
     "output_type": "stream",
     "text": [
      "rms_train =  0.0191393367107    rms_test =  0.122083863376\n",
      "mae_train =  0.0979136925705    mae_test =  0.270062497132\n",
      "mape_train =  1.962487392854624    mape_test =  5.614760024901151\n"
     ]
    }
   ],
   "source": [
    "from sklearn.metrics import mean_squared_error, mean_absolute_error\n",
    "from sklearn.ensemble import RandomForestRegressor\n",
    "from sklearn.neighbors import KNeighborsRegressor\n",
    "\n",
    "# y_train = pd.DataFrame(data_chunk_1['int_rt'].astype('float64'))\n",
    "\n",
    "# y1 =  pd.DataFrame(data=y_train[1:,1:], index=y_train[1:,0],columns=y_train[0,1:])\n",
    "\n",
    "\n",
    "rf = RandomForestRegressor(n_estimators=15)\n",
    "rf.fit(x_train, y_train.values.ravel())\n",
    "\n",
    "data_estimate_train = rf.predict(x_train)\n",
    "data_estimate_test = rf.predict(x_test)\n",
    "\n",
    "\n",
    "rms_train = mean_squared_error(y_train, data_estimate_train)\n",
    "rms_test = mean_squared_error(y_test, data_estimate_test)\n",
    "\n",
    "mae_train = mean_absolute_error(y_train, data_estimate_train)\n",
    "mae_test = mean_absolute_error(y_test, data_estimate_test)\n",
    "\n",
    "mape_train = np.mean(np.abs((y_train - data_estimate_train) / y_train)) * 100\n",
    "mape_test = np.mean(np.abs((y_test - data_estimate_test) / y_test)) * 100\n",
    "\n",
    "\n",
    "print(\"rms_train = \",rms_train,\"   rms_test = \",rms_test )\n",
    "print(\"mae_train = \" ,mae_train ,\"   mae_test = \",mae_test )\n",
    "print(\"mape_train = \" ,float(mape_train),\"   mape_test = \",float(mape_test))\n",
    "#  !pip install --user --upgrade sklearn\n",
    "\n"
   ]
  },
  {
   "cell_type": "markdown",
   "metadata": {},
   "source": [
    "### RMS,MAE and MAPE values for train data - Q12005 and test data - Q22005 Nueral Network Algorithm"
   ]
  },
  {
   "cell_type": "code",
   "execution_count": 9,
   "metadata": {
    "collapsed": false
   },
   "outputs": [
    {
     "name": "stdout",
     "output_type": "stream",
     "text": [
      "rms_train =  0.0802692745562    rms_test =  0.863215322411\n",
      "mae_train =  0.209203932186    mae_test =  0.878335304454\n",
      "mape_train =  3.6888071977184254    mape_test =  14.976243535459915\n"
     ]
    }
   ],
   "source": [
    "import operator\n",
    "import pandas as pd\n",
    "import numpy as np\n",
    "from sklearn.metrics import mean_squared_error, mean_absolute_error\n",
    "from sklearn.neural_network import MLPRegressor\n",
    "\n",
    "\n",
    "nn = MLPRegressor()\n",
    "nn.fit(x_train, y_train)\n",
    "\n",
    "data_estimate_train = nn.predict(x_train)\n",
    "data_estimate_test = nn.predict(x_test)\n",
    "\n",
    "rms_train = mean_squared_error(y_train, data_estimate_train)\n",
    "rms_test = mean_squared_error(y_test, data_estimate_test)\n",
    "\n",
    "mae_train = mean_absolute_error(y_train, data_estimate_train)\n",
    "mae_test = mean_absolute_error(y_test, data_estimate_test)\n",
    "\n",
    "\n",
    "mape_train = np.mean(np.abs((y_train - data_estimate_train) / y_train)) * 100\n",
    "mape_test = np.mean(np.abs((y_test - data_estimate_test) / y_test)) * 100\n",
    "\n",
    "print(\"rms_train = \",rms_train,\"   rms_test = \",rms_test )\n",
    "print(\"mae_train = \" ,mae_train ,\"   mae_test = \",mae_test )\n",
    "print(\"mape_train = \" ,mape_train,\"   mape_test = \",mape_test )"
   ]
  },
  {
   "cell_type": "markdown",
   "metadata": {},
   "source": [
    "### Feature selection using exhaustive search method "
   ]
  },
  {
   "cell_type": "code",
   "execution_count": 10,
   "metadata": {
    "collapsed": false
   },
   "outputs": [
    {
     "name": "stderr",
     "output_type": "stream",
     "text": [
      "Installing package into ‘/gpfs/global_fs01/sym_shared/YPProdSpark/user/sff7-58a84c67e1da6e-fa49d0174b0c/R/libs’\n",
      "(as ‘lib’ is unspecified)\n",
      "Warning message in leaps.setup(x, y, wt = wt, nbest = nbest, nvmax = nvmax, force.in = force.in, :\n",
      "“1  linear dependencies found”"
     ]
    },
    {
     "name": "stdout",
     "output_type": "stream",
     "text": [
      "Reordering variables and trying again:\n",
      "[1] \"['fico','dt_first_pi','flag_fthb','dt_matr','cd_msa','mi_pct','cnt_units', 'occpy_sts','cltv','dti','orig_upb','ltv','int_rt','channel','ppmt_pnlty','prod_type','st', 'prop_type','zipcode','id_loan','loan_purpose', \\n       'orig_loan_term','cnt_borr','seller_name','servicer_name', 'flag_sc']\"\n"
     ]
    },
    {
     "data": {
      "text/html": [
       "<ol class=list-inline>\n",
       "\t<li>'which'</li>\n",
       "\t<li>'rsq'</li>\n",
       "\t<li>'rss'</li>\n",
       "\t<li>'adjr2'</li>\n",
       "\t<li>'cp'</li>\n",
       "\t<li>'bic'</li>\n",
       "\t<li>'outmat'</li>\n",
       "\t<li>'obj'</li>\n",
       "</ol>\n"
      ],
      "text/latex": [
       "\\begin{enumerate*}\n",
       "\\item 'which'\n",
       "\\item 'rsq'\n",
       "\\item 'rss'\n",
       "\\item 'adjr2'\n",
       "\\item 'cp'\n",
       "\\item 'bic'\n",
       "\\item 'outmat'\n",
       "\\item 'obj'\n",
       "\\end{enumerate*}\n"
      ],
      "text/markdown": [
       "1. 'which'\n",
       "2. 'rsq'\n",
       "3. 'rss'\n",
       "4. 'adjr2'\n",
       "5. 'cp'\n",
       "6. 'bic'\n",
       "7. 'outmat'\n",
       "8. 'obj'\n",
       "\n",
       "\n"
      ],
      "text/plain": [
       "[1] \"which\"  \"rsq\"    \"rss\"    \"adjr2\"  \"cp\"     \"bic\"    \"outmat\" \"obj\"   "
      ]
     },
     "metadata": {},
     "output_type": "display_data"
    },
    {
     "data": {
      "text/html": [
       "<ol class=list-inline>\n",
       "\t<li>35085.5264759556</li>\n",
       "\t<li>32867.5477314971</li>\n",
       "\t<li>31893.2672923032</li>\n",
       "\t<li>31330.4985883726</li>\n",
       "\t<li>30750.667390884</li>\n",
       "\t<li>30491.8376718903</li>\n",
       "\t<li>30356.0447432044</li>\n",
       "\t<li>30236.7386749521</li>\n",
       "\t<li>30156.8820089294</li>\n",
       "\t<li>30076.2521896002</li>\n",
       "\t<li>30008.3477166338</li>\n",
       "\t<li>29959.23010205</li>\n",
       "\t<li>29952.6659034054</li>\n",
       "\t<li>29952.4726250763</li>\n",
       "\t<li>29952.4110917057</li>\n",
       "</ol>\n"
      ],
      "text/latex": [
       "\\begin{enumerate*}\n",
       "\\item 35085.5264759556\n",
       "\\item 32867.5477314971\n",
       "\\item 31893.2672923032\n",
       "\\item 31330.4985883726\n",
       "\\item 30750.667390884\n",
       "\\item 30491.8376718903\n",
       "\\item 30356.0447432044\n",
       "\\item 30236.7386749521\n",
       "\\item 30156.8820089294\n",
       "\\item 30076.2521896002\n",
       "\\item 30008.3477166338\n",
       "\\item 29959.23010205\n",
       "\\item 29952.6659034054\n",
       "\\item 29952.4726250763\n",
       "\\item 29952.4110917057\n",
       "\\end{enumerate*}\n"
      ],
      "text/markdown": [
       "1. 35085.5264759556\n",
       "2. 32867.5477314971\n",
       "3. 31893.2672923032\n",
       "4. 31330.4985883726\n",
       "5. 30750.667390884\n",
       "6. 30491.8376718903\n",
       "7. 30356.0447432044\n",
       "8. 30236.7386749521\n",
       "9. 30156.8820089294\n",
       "10. 30076.2521896002\n",
       "11. 30008.3477166338\n",
       "12. 29959.23010205\n",
       "13. 29952.6659034054\n",
       "14. 29952.4726250763\n",
       "15. 29952.4110917057\n",
       "\n",
       "\n"
      ],
      "text/plain": [
       " [1] 35085.53 32867.55 31893.27 31330.50 30750.67 30491.84 30356.04 30236.74\n",
       " [9] 30156.88 30076.25 30008.35 29959.23 29952.67 29952.47 29952.41"
      ]
     },
     "metadata": {},
     "output_type": "display_data"
    },
    {
     "data": {
      "text/html": [
       "<ol class=list-inline>\n",
       "\t<li>0.262725009111454</li>\n",
       "\t<li>0.309330875663204</li>\n",
       "\t<li>0.32980221710513</li>\n",
       "\t<li>0.341626237414134</li>\n",
       "\t<li>0.353808874309786</li>\n",
       "\t<li>0.359246071710886</li>\n",
       "\t<li>0.362097803814997</li>\n",
       "\t<li>0.364603096116717</li>\n",
       "\t<li>0.366279407858348</li>\n",
       "\t<li>0.36797197632093</li>\n",
       "\t<li>0.369397140824258</li>\n",
       "\t<li>0.370427520608919</li>\n",
       "\t<li>0.37056367313455</li>\n",
       "\t<li>0.37056594519335</li>\n",
       "\t<li>0.370565448712361</li>\n",
       "</ol>\n"
      ],
      "text/latex": [
       "\\begin{enumerate*}\n",
       "\\item 0.262725009111454\n",
       "\\item 0.309330875663204\n",
       "\\item 0.32980221710513\n",
       "\\item 0.341626237414134\n",
       "\\item 0.353808874309786\n",
       "\\item 0.359246071710886\n",
       "\\item 0.362097803814997\n",
       "\\item 0.364603096116717\n",
       "\\item 0.366279407858348\n",
       "\\item 0.36797197632093\n",
       "\\item 0.369397140824258\n",
       "\\item 0.370427520608919\n",
       "\\item 0.37056367313455\n",
       "\\item 0.37056594519335\n",
       "\\item 0.370565448712361\n",
       "\\end{enumerate*}\n"
      ],
      "text/markdown": [
       "1. 0.262725009111454\n",
       "2. 0.309330875663204\n",
       "3. 0.32980221710513\n",
       "4. 0.341626237414134\n",
       "5. 0.353808874309786\n",
       "6. 0.359246071710886\n",
       "7. 0.362097803814997\n",
       "8. 0.364603096116717\n",
       "9. 0.366279407858348\n",
       "10. 0.36797197632093\n",
       "11. 0.369397140824258\n",
       "12. 0.370427520608919\n",
       "13. 0.37056367313455\n",
       "14. 0.37056594519335\n",
       "15. 0.370565448712361\n",
       "\n",
       "\n"
      ],
      "text/plain": [
       " [1] 0.2627250 0.3093309 0.3298022 0.3416262 0.3538089 0.3592461 0.3620978\n",
       " [8] 0.3646031 0.3662794 0.3679720 0.3693971 0.3704275 0.3705637 0.3705659\n",
       "[15] 0.3705654"
      ]
     },
     "metadata": {},
     "output_type": "display_data"
    },
    {
     "data": {
      "image/png": "[encoded data removed]"
     },
     "metadata": {},
     "output_type": "display_data"
    }
   ],
   "source": [
    "# @hidden_cell\n",
    "# This function accesses a file in your Object Storage. The definition contains your credentials.\n",
    "# You might want to remove those credentials before you share your notebook.\n",
    "getObjectStorageFileWithCredentials_36050ddb3c4f40a18a7f066830ed7d30 <- function(container, filename) {\n",
    "    # This functions returns a textConnection object for a file\n",
    "    # from Bluemix Object Storage.\n",
    "\n",
    "    if(!require(httr)) install.packages('httr')\n",
    "    if(!require(RCurl)) install.packages('RCurl')\n",
    "    library(httr, RCurl)\n",
    "    auth_url <- paste(\"https://identity.open.softlayer.com\",'/v3/auth/tokens', sep= '')\n",
    "    auth_args <- paste('{\"auth\": {\"identity\": {\"password\": {\"user\": {\"domain\": {\"id\": ', \"acc42c12cff74f9fb5e0ce17640fc696\",'},\"password\": ',\n",
    "                    \"m59^Vn2*eZk]Ow!4\",',\"name\": ', \"member_dbe4519ae34079f48b969553bfa91d61699393ca\",'}},\"methods\": [\"password\"]}}}', sep='\"')\n",
    "    auth_response <- httr::POST(url = auth_url, body = auth_args)\n",
    "    x_subject_token <-  headers(auth_response)[['x-subject-token']]\n",
    "    auth_body <-  content(auth_response)\n",
    "    access_url <-  unlist(lapply(auth_body[['token']][['catalog']], function(catalog){\n",
    "        if((catalog[['type']] == 'object-store')){\n",
    "            lapply(catalog[['endpoints']], function(endpoints){\n",
    "                if(endpoints[['interface']] == 'public' && endpoints[['region_id']] == 'dallas') {\n",
    "                    paste(endpoints[['url']], container, filename, sep='/')}\n",
    "            })\n",
    "        }\n",
    "    }))\n",
    "    data <- content(httr::GET(url = access_url, add_headers (\"Content-Type\" = \"application/json\", \"X-Auth-Token\" = x_subject_token)), as=\"text\")\n",
    "    textConnection(data)\n",
    "}\n",
    "\n",
    "# Your data file was loaded into a textConnection object and you can process the data with your package of choice.\n",
    "#data.3 <- getObjectStorageFileWithCredentials_36050ddb3c4f40a18a7f066830ed7d30(\"MidTerm\", \"clean.csv\")\n",
    "df.data.1 <-  read.csv(file = getObjectStorageFileWithCredentials_36050ddb3c4f40a18a7f066830ed7d30(\"MidTerm\", \"clean.csv\"))\n",
    "install.packages(\"leaps\")\n",
    "library(leaps)\n",
    "##### Searching all subset models up to size 8 by default \n",
    "regfit.full=regsubsets(int_rt~.,data=df.data.1,method=\"exhaustive\",nvmax = 17)\n",
    "plot(regfit.full)\n",
    "reg.summary = summary(regfit.full) \n",
    "        \n",
    "print(\"['fico','dt_first_pi','flag_fthb','dt_matr','cd_msa','mi_pct','cnt_units', 'occpy_sts','cltv','dti','orig_upb','ltv','int_rt','channel','ppmt_pnlty','prod_type','st', 'prop_type','zipcode','id_loan','loan_purpose', \n",
    "       'orig_loan_term','cnt_borr','seller_name','servicer_name', 'flag_sc']\")\n",
    "\n",
    "names(reg.summary)\n",
    "reg.summary$rss\n",
    "reg.summary$adjr2         "
   ]
  },
  {
   "cell_type": "markdown",
   "metadata": {},
   "source": [
    "### Feature Selection using Forward Search"
   ]
  },
  {
   "cell_type": "code",
   "execution_count": 11,
   "metadata": {
    "collapsed": false
   },
   "outputs": [
    {
     "name": "stderr",
     "output_type": "stream",
     "text": [
      "Warning message in leaps.setup(x, y, wt = wt, nbest = nbest, nvmax = nvmax, force.in = force.in, :\n",
      "“1  linear dependencies found”"
     ]
    },
    {
     "name": "stdout",
     "output_type": "stream",
     "text": [
      "Reordering variables and trying again:\n"
     ]
    },
    {
     "name": "stderr",
     "output_type": "stream",
     "text": [
      "Warning message in rval$lopt[] <- rval$vorder[rval$lopt]:\n",
      "“number of items to replace is not a multiple of replacement length”"
     ]
    },
    {
     "name": "stdout",
     "output_type": "stream",
     "text": [
      "[1] \"['fico','dt_first_pi','flag_fthb','dt_matr','cd_msa','mi_pct','cnt_units', 'occpy_sts','cltv','dti','orig_upb','ltv','int_rt','channel','ppmt_pnlty','prod_type','st', 'prop_type','zipcode','id_loan','loan_purpose', \\n       'orig_loan_term','cnt_borr','seller_name','servicer_name', 'flag_sc']\"\n"
     ]
    },
    {
     "data": {
      "text/html": [
       "<ol class=list-inline>\n",
       "\t<li>'which'</li>\n",
       "\t<li>'rsq'</li>\n",
       "\t<li>'rss'</li>\n",
       "\t<li>'adjr2'</li>\n",
       "\t<li>'cp'</li>\n",
       "\t<li>'bic'</li>\n",
       "\t<li>'outmat'</li>\n",
       "\t<li>'obj'</li>\n",
       "</ol>\n"
      ],
      "text/latex": [
       "\\begin{enumerate*}\n",
       "\\item 'which'\n",
       "\\item 'rsq'\n",
       "\\item 'rss'\n",
       "\\item 'adjr2'\n",
       "\\item 'cp'\n",
       "\\item 'bic'\n",
       "\\item 'outmat'\n",
       "\\item 'obj'\n",
       "\\end{enumerate*}\n"
      ],
      "text/markdown": [
       "1. 'which'\n",
       "2. 'rsq'\n",
       "3. 'rss'\n",
       "4. 'adjr2'\n",
       "5. 'cp'\n",
       "6. 'bic'\n",
       "7. 'outmat'\n",
       "8. 'obj'\n",
       "\n",
       "\n"
      ],
      "text/plain": [
       "[1] \"which\"  \"rsq\"    \"rss\"    \"adjr2\"  \"cp\"     \"bic\"    \"outmat\" \"obj\"   "
      ]
     },
     "metadata": {},
     "output_type": "display_data"
    },
    {
     "data": {
      "text/html": [
       "<ol class=list-inline>\n",
       "\t<li>35085.5264759556</li>\n",
       "\t<li>32867.5477314971</li>\n",
       "\t<li>31893.2672923032</li>\n",
       "\t<li>31330.4985883726</li>\n",
       "\t<li>30750.667390884</li>\n",
       "\t<li>30491.8376718903</li>\n",
       "\t<li>30356.0447432045</li>\n",
       "\t<li>30236.7386749521</li>\n",
       "\t<li>30156.8820089294</li>\n",
       "\t<li>30076.2521896002</li>\n",
       "\t<li>30008.3477166338</li>\n",
       "\t<li>29959.23010205</li>\n",
       "\t<li>29952.6659034054</li>\n",
       "\t<li>29952.4726250763</li>\n",
       "\t<li>29952.4110917057</li>\n",
       "</ol>\n"
      ],
      "text/latex": [
       "\\begin{enumerate*}\n",
       "\\item 35085.5264759556\n",
       "\\item 32867.5477314971\n",
       "\\item 31893.2672923032\n",
       "\\item 31330.4985883726\n",
       "\\item 30750.667390884\n",
       "\\item 30491.8376718903\n",
       "\\item 30356.0447432045\n",
       "\\item 30236.7386749521\n",
       "\\item 30156.8820089294\n",
       "\\item 30076.2521896002\n",
       "\\item 30008.3477166338\n",
       "\\item 29959.23010205\n",
       "\\item 29952.6659034054\n",
       "\\item 29952.4726250763\n",
       "\\item 29952.4110917057\n",
       "\\end{enumerate*}\n"
      ],
      "text/markdown": [
       "1. 35085.5264759556\n",
       "2. 32867.5477314971\n",
       "3. 31893.2672923032\n",
       "4. 31330.4985883726\n",
       "5. 30750.667390884\n",
       "6. 30491.8376718903\n",
       "7. 30356.0447432045\n",
       "8. 30236.7386749521\n",
       "9. 30156.8820089294\n",
       "10. 30076.2521896002\n",
       "11. 30008.3477166338\n",
       "12. 29959.23010205\n",
       "13. 29952.6659034054\n",
       "14. 29952.4726250763\n",
       "15. 29952.4110917057\n",
       "\n",
       "\n"
      ],
      "text/plain": [
       " [1] 35085.53 32867.55 31893.27 31330.50 30750.67 30491.84 30356.04 30236.74\n",
       " [9] 30156.88 30076.25 30008.35 29959.23 29952.67 29952.47 29952.41"
      ]
     },
     "metadata": {},
     "output_type": "display_data"
    },
    {
     "data": {
      "text/html": [
       "<ol class=list-inline>\n",
       "\t<li>0.262725009111453</li>\n",
       "\t<li>0.309330875663203</li>\n",
       "\t<li>0.329802217105129</li>\n",
       "\t<li>0.341626237414134</li>\n",
       "\t<li>0.353808874309785</li>\n",
       "\t<li>0.359246071710885</li>\n",
       "\t<li>0.362097803814997</li>\n",
       "\t<li>0.364603096116716</li>\n",
       "\t<li>0.366279407858348</li>\n",
       "\t<li>0.36797197632093</li>\n",
       "\t<li>0.369397140824258</li>\n",
       "\t<li>0.370427520608919</li>\n",
       "\t<li>0.37056367313455</li>\n",
       "\t<li>0.37056594519335</li>\n",
       "\t<li>0.370565448712361</li>\n",
       "</ol>\n"
      ],
      "text/latex": [
       "\\begin{enumerate*}\n",
       "\\item 0.262725009111453\n",
       "\\item 0.309330875663203\n",
       "\\item 0.329802217105129\n",
       "\\item 0.341626237414134\n",
       "\\item 0.353808874309785\n",
       "\\item 0.359246071710885\n",
       "\\item 0.362097803814997\n",
       "\\item 0.364603096116716\n",
       "\\item 0.366279407858348\n",
       "\\item 0.36797197632093\n",
       "\\item 0.369397140824258\n",
       "\\item 0.370427520608919\n",
       "\\item 0.37056367313455\n",
       "\\item 0.37056594519335\n",
       "\\item 0.370565448712361\n",
       "\\end{enumerate*}\n"
      ],
      "text/markdown": [
       "1. 0.262725009111453\n",
       "2. 0.309330875663203\n",
       "3. 0.329802217105129\n",
       "4. 0.341626237414134\n",
       "5. 0.353808874309785\n",
       "6. 0.359246071710885\n",
       "7. 0.362097803814997\n",
       "8. 0.364603096116716\n",
       "9. 0.366279407858348\n",
       "10. 0.36797197632093\n",
       "11. 0.369397140824258\n",
       "12. 0.370427520608919\n",
       "13. 0.37056367313455\n",
       "14. 0.37056594519335\n",
       "15. 0.370565448712361\n",
       "\n",
       "\n"
      ],
      "text/plain": [
       " [1] 0.2627250 0.3093309 0.3298022 0.3416262 0.3538089 0.3592461 0.3620978\n",
       " [8] 0.3646031 0.3662794 0.3679720 0.3693971 0.3704275 0.3705637 0.3705659\n",
       "[15] 0.3705654"
      ]
     },
     "metadata": {},
     "output_type": "display_data"
    },
    {
     "data": {
      "image/png": "[encoded data removed]"
     },
     "metadata": {},
     "output_type": "display_data"
    }
   ],
   "source": [
    "regfit.fwd=regsubsets(int_rt~.,data=df.data.1,nvmax=17, method=\"forward\") \n",
    "plot(regfit.fwd)\n",
    "#F=summary(regfit.bwd)\n",
    "#names(F)\n",
    "reg.summary = summary(regfit.fwd) \n",
    "        \n",
    "print(\"['fico','dt_first_pi','flag_fthb','dt_matr','cd_msa','mi_pct','cnt_units', 'occpy_sts','cltv','dti','orig_upb','ltv','int_rt','channel','ppmt_pnlty','prod_type','st', 'prop_type','zipcode','id_loan','loan_purpose', \n",
    "       'orig_loan_term','cnt_borr','seller_name','servicer_name', 'flag_sc']\")\n",
    "\n",
    "names(reg.summary)\n",
    "reg.summary$rss\n",
    "reg.summary$adjr2  "
   ]
  },
  {
   "cell_type": "markdown",
   "metadata": {},
   "source": [
    "### Feature Selection using Backward Search"
   ]
  },
  {
   "cell_type": "code",
   "execution_count": 13,
   "metadata": {
    "collapsed": false
   },
   "outputs": [
    {
     "name": "stderr",
     "output_type": "stream",
     "text": [
      "Warning message in leaps.setup(x, y, wt = wt, nbest = nbest, nvmax = nvmax, force.in = force.in, :\n",
      "“1  linear dependencies found”"
     ]
    },
    {
     "name": "stdout",
     "output_type": "stream",
     "text": [
      "Reordering variables and trying again:\n"
     ]
    },
    {
     "name": "stderr",
     "output_type": "stream",
     "text": [
      "Warning message in rval$lopt[] <- rval$vorder[rval$lopt]:\n",
      "“number of items to replace is not a multiple of replacement length”"
     ]
    },
    {
     "name": "stdout",
     "output_type": "stream",
     "text": [
      "[1] \"['fico','dt_first_pi','flag_fthb','dt_matr','cd_msa','mi_pct','cnt_units', 'occpy_sts','cltv','dti','orig_upb','ltv','int_rt','channel','ppmt_pnlty','prod_type','st', 'prop_type','zipcode','id_loan','loan_purpose', \\n       'orig_loan_term','cnt_borr','seller_name','servicer_name', 'flag_sc']\"\n"
     ]
    },
    {
     "data": {
      "text/html": [
       "<ol class=list-inline>\n",
       "\t<li>'which'</li>\n",
       "\t<li>'rsq'</li>\n",
       "\t<li>'rss'</li>\n",
       "\t<li>'adjr2'</li>\n",
       "\t<li>'cp'</li>\n",
       "\t<li>'bic'</li>\n",
       "\t<li>'outmat'</li>\n",
       "\t<li>'obj'</li>\n",
       "</ol>\n"
      ],
      "text/latex": [
       "\\begin{enumerate*}\n",
       "\\item 'which'\n",
       "\\item 'rsq'\n",
       "\\item 'rss'\n",
       "\\item 'adjr2'\n",
       "\\item 'cp'\n",
       "\\item 'bic'\n",
       "\\item 'outmat'\n",
       "\\item 'obj'\n",
       "\\end{enumerate*}\n"
      ],
      "text/markdown": [
       "1. 'which'\n",
       "2. 'rsq'\n",
       "3. 'rss'\n",
       "4. 'adjr2'\n",
       "5. 'cp'\n",
       "6. 'bic'\n",
       "7. 'outmat'\n",
       "8. 'obj'\n",
       "\n",
       "\n"
      ],
      "text/plain": [
       "[1] \"which\"  \"rsq\"    \"rss\"    \"adjr2\"  \"cp\"     \"bic\"    \"outmat\" \"obj\"   "
      ]
     },
     "metadata": {},
     "output_type": "display_data"
    },
    {
     "data": {
      "text/html": [
       "<ol class=list-inline>\n",
       "\t<li>35085.5264759556</li>\n",
       "\t<li>32867.5477314971</li>\n",
       "\t<li>31893.2672923032</li>\n",
       "\t<li>31330.4985883726</li>\n",
       "\t<li>30750.667390884</li>\n",
       "\t<li>30491.8376718903</li>\n",
       "\t<li>30356.0447432045</li>\n",
       "\t<li>30236.7386749521</li>\n",
       "\t<li>30156.8820089294</li>\n",
       "\t<li>30076.2521896002</li>\n",
       "\t<li>30008.3477166338</li>\n",
       "\t<li>29959.23010205</li>\n",
       "\t<li>29952.6659034054</li>\n",
       "\t<li>29952.4726250763</li>\n",
       "\t<li>29952.4110917057</li>\n",
       "</ol>\n"
      ],
      "text/latex": [
       "\\begin{enumerate*}\n",
       "\\item 35085.5264759556\n",
       "\\item 32867.5477314971\n",
       "\\item 31893.2672923032\n",
       "\\item 31330.4985883726\n",
       "\\item 30750.667390884\n",
       "\\item 30491.8376718903\n",
       "\\item 30356.0447432045\n",
       "\\item 30236.7386749521\n",
       "\\item 30156.8820089294\n",
       "\\item 30076.2521896002\n",
       "\\item 30008.3477166338\n",
       "\\item 29959.23010205\n",
       "\\item 29952.6659034054\n",
       "\\item 29952.4726250763\n",
       "\\item 29952.4110917057\n",
       "\\end{enumerate*}\n"
      ],
      "text/markdown": [
       "1. 35085.5264759556\n",
       "2. 32867.5477314971\n",
       "3. 31893.2672923032\n",
       "4. 31330.4985883726\n",
       "5. 30750.667390884\n",
       "6. 30491.8376718903\n",
       "7. 30356.0447432045\n",
       "8. 30236.7386749521\n",
       "9. 30156.8820089294\n",
       "10. 30076.2521896002\n",
       "11. 30008.3477166338\n",
       "12. 29959.23010205\n",
       "13. 29952.6659034054\n",
       "14. 29952.4726250763\n",
       "15. 29952.4110917057\n",
       "\n",
       "\n"
      ],
      "text/plain": [
       " [1] 35085.53 32867.55 31893.27 31330.50 30750.67 30491.84 30356.04 30236.74\n",
       " [9] 30156.88 30076.25 30008.35 29959.23 29952.67 29952.47 29952.41"
      ]
     },
     "metadata": {},
     "output_type": "display_data"
    },
    {
     "data": {
      "text/html": [
       "<ol class=list-inline>\n",
       "\t<li>0.262725009111453</li>\n",
       "\t<li>0.309330875663203</li>\n",
       "\t<li>0.329802217105129</li>\n",
       "\t<li>0.341626237414134</li>\n",
       "\t<li>0.353808874309785</li>\n",
       "\t<li>0.359246071710885</li>\n",
       "\t<li>0.362097803814997</li>\n",
       "\t<li>0.364603096116716</li>\n",
       "\t<li>0.366279407858348</li>\n",
       "\t<li>0.36797197632093</li>\n",
       "\t<li>0.369397140824258</li>\n",
       "\t<li>0.370427520608919</li>\n",
       "\t<li>0.37056367313455</li>\n",
       "\t<li>0.37056594519335</li>\n",
       "\t<li>0.370565448712361</li>\n",
       "</ol>\n"
      ],
      "text/latex": [
       "\\begin{enumerate*}\n",
       "\\item 0.262725009111453\n",
       "\\item 0.309330875663203\n",
       "\\item 0.329802217105129\n",
       "\\item 0.341626237414134\n",
       "\\item 0.353808874309785\n",
       "\\item 0.359246071710885\n",
       "\\item 0.362097803814997\n",
       "\\item 0.364603096116716\n",
       "\\item 0.366279407858348\n",
       "\\item 0.36797197632093\n",
       "\\item 0.369397140824258\n",
       "\\item 0.370427520608919\n",
       "\\item 0.37056367313455\n",
       "\\item 0.37056594519335\n",
       "\\item 0.370565448712361\n",
       "\\end{enumerate*}\n"
      ],
      "text/markdown": [
       "1. 0.262725009111453\n",
       "2. 0.309330875663203\n",
       "3. 0.329802217105129\n",
       "4. 0.341626237414134\n",
       "5. 0.353808874309785\n",
       "6. 0.359246071710885\n",
       "7. 0.362097803814997\n",
       "8. 0.364603096116716\n",
       "9. 0.366279407858348\n",
       "10. 0.36797197632093\n",
       "11. 0.369397140824258\n",
       "12. 0.370427520608919\n",
       "13. 0.37056367313455\n",
       "14. 0.37056594519335\n",
       "15. 0.370565448712361\n",
       "\n",
       "\n"
      ],
      "text/plain": [
       " [1] 0.2627250 0.3093309 0.3298022 0.3416262 0.3538089 0.3592461 0.3620978\n",
       " [8] 0.3646031 0.3662794 0.3679720 0.3693971 0.3704275 0.3705637 0.3705659\n",
       "[15] 0.3705654"
      ]
     },
     "metadata": {},
     "output_type": "display_data"
    },
    {
     "data": {
      "image/png": "[encoded data removed]"
     },
     "metadata": {},
     "output_type": "display_data"
    }
   ],
   "source": [
    "regfit.bwd=regsubsets(int_rt~.,data=df.data.1,nvmax=17, method=\"backward\") \n",
    "plot(regfit.bwd)\n",
    "reg.summary = summary(regfit.bwd) \n",
    "        \n",
    "print(\"['fico','dt_first_pi','flag_fthb','dt_matr','cd_msa','mi_pct','cnt_units', 'occpy_sts','cltv','dti','orig_upb','ltv','int_rt','channel','ppmt_pnlty','prod_type','st', 'prop_type','zipcode','id_loan','loan_purpose', \n",
    "       'orig_loan_term','cnt_borr','seller_name','servicer_name', 'flag_sc']\")\n",
    "\n",
    "names(reg.summary)\n",
    "reg.summary$rss\n",
    "reg.summary$adjr2  "
   ]
  },
  {
   "cell_type": "markdown",
   "metadata": {},
   "source": [
    "### Feature Selection using Stepwise Search"
   ]
  },
  {
   "cell_type": "code",
   "execution_count": 14,
   "metadata": {
    "collapsed": false
   },
   "outputs": [
    {
     "name": "stderr",
     "output_type": "stream",
     "text": [
      "Warning message in leaps.setup(x, y, wt = wt, nbest = nbest, nvmax = nvmax, force.in = force.in, :\n",
      "“1  linear dependencies found”"
     ]
    },
    {
     "name": "stdout",
     "output_type": "stream",
     "text": [
      "Reordering variables and trying again:\n",
      "[1] \"['fico','dt_first_pi','flag_fthb','dt_matr','cd_msa','mi_pct','cnt_units', 'occpy_sts','cltv','dti','orig_upb','ltv','int_rt','channel','ppmt_pnlty','prod_type','st', 'prop_type','zipcode','id_loan','loan_purpose', \\n       'orig_loan_term','cnt_borr','seller_name','servicer_name', 'flag_sc']\"\n"
     ]
    },
    {
     "data": {
      "text/html": [
       "<ol class=list-inline>\n",
       "\t<li>'which'</li>\n",
       "\t<li>'rsq'</li>\n",
       "\t<li>'rss'</li>\n",
       "\t<li>'adjr2'</li>\n",
       "\t<li>'cp'</li>\n",
       "\t<li>'bic'</li>\n",
       "\t<li>'outmat'</li>\n",
       "\t<li>'obj'</li>\n",
       "</ol>\n"
      ],
      "text/latex": [
       "\\begin{enumerate*}\n",
       "\\item 'which'\n",
       "\\item 'rsq'\n",
       "\\item 'rss'\n",
       "\\item 'adjr2'\n",
       "\\item 'cp'\n",
       "\\item 'bic'\n",
       "\\item 'outmat'\n",
       "\\item 'obj'\n",
       "\\end{enumerate*}\n"
      ],
      "text/markdown": [
       "1. 'which'\n",
       "2. 'rsq'\n",
       "3. 'rss'\n",
       "4. 'adjr2'\n",
       "5. 'cp'\n",
       "6. 'bic'\n",
       "7. 'outmat'\n",
       "8. 'obj'\n",
       "\n",
       "\n"
      ],
      "text/plain": [
       "[1] \"which\"  \"rsq\"    \"rss\"    \"adjr2\"  \"cp\"     \"bic\"    \"outmat\" \"obj\"   "
      ]
     },
     "metadata": {},
     "output_type": "display_data"
    },
    {
     "data": {
      "text/html": [
       "<ol class=list-inline>\n",
       "\t<li>35085.5264759556</li>\n",
       "\t<li>32867.5477314972</li>\n",
       "\t<li>45552.9743001069</li>\n",
       "\t<li>31330.4985883726</li>\n",
       "\t<li>30750.667390884</li>\n",
       "\t<li>30491.8376718903</li>\n",
       "\t<li>30356.0447432045</li>\n",
       "\t<li>30236.7386749521</li>\n",
       "\t<li>30156.8820089294</li>\n",
       "\t<li>30076.2521896002</li>\n",
       "\t<li>30008.3477166338</li>\n",
       "\t<li>29959.23010205</li>\n",
       "\t<li>29952.6659034054</li>\n",
       "\t<li>29952.4726250763</li>\n",
       "\t<li>29952.4110917057</li>\n",
       "</ol>\n"
      ],
      "text/latex": [
       "\\begin{enumerate*}\n",
       "\\item 35085.5264759556\n",
       "\\item 32867.5477314972\n",
       "\\item 45552.9743001069\n",
       "\\item 31330.4985883726\n",
       "\\item 30750.667390884\n",
       "\\item 30491.8376718903\n",
       "\\item 30356.0447432045\n",
       "\\item 30236.7386749521\n",
       "\\item 30156.8820089294\n",
       "\\item 30076.2521896002\n",
       "\\item 30008.3477166338\n",
       "\\item 29959.23010205\n",
       "\\item 29952.6659034054\n",
       "\\item 29952.4726250763\n",
       "\\item 29952.4110917057\n",
       "\\end{enumerate*}\n"
      ],
      "text/markdown": [
       "1. 35085.5264759556\n",
       "2. 32867.5477314972\n",
       "3. 45552.9743001069\n",
       "4. 31330.4985883726\n",
       "5. 30750.667390884\n",
       "6. 30491.8376718903\n",
       "7. 30356.0447432045\n",
       "8. 30236.7386749521\n",
       "9. 30156.8820089294\n",
       "10. 30076.2521896002\n",
       "11. 30008.3477166338\n",
       "12. 29959.23010205\n",
       "13. 29952.6659034054\n",
       "14. 29952.4726250763\n",
       "15. 29952.4110917057\n",
       "\n",
       "\n"
      ],
      "text/plain": [
       " [1] 35085.53 32867.55 45552.97 31330.50 30750.67 30491.84 30356.04 30236.74\n",
       " [9] 30156.88 30076.25 30008.35 29959.23 29952.67 29952.47 29952.41"
      ]
     },
     "metadata": {},
     "output_type": "display_data"
    },
    {
     "data": {
      "text/html": [
       "<ol class=list-inline>\n",
       "\t<li>0.262725009111453</li>\n",
       "\t<li>0.309330875663203</li>\n",
       "\t<li>0.0427602760045115</li>\n",
       "\t<li>0.341626237414134</li>\n",
       "\t<li>0.353808874309785</li>\n",
       "\t<li>0.359246071710885</li>\n",
       "\t<li>0.362097803814997</li>\n",
       "\t<li>0.364603096116716</li>\n",
       "\t<li>0.366279407858348</li>\n",
       "\t<li>0.36797197632093</li>\n",
       "\t<li>0.369397140824258</li>\n",
       "\t<li>0.37042752060892</li>\n",
       "\t<li>0.37056367313455</li>\n",
       "\t<li>0.37056594519335</li>\n",
       "\t<li>0.370565448712361</li>\n",
       "</ol>\n"
      ],
      "text/latex": [
       "\\begin{enumerate*}\n",
       "\\item 0.262725009111453\n",
       "\\item 0.309330875663203\n",
       "\\item 0.0427602760045115\n",
       "\\item 0.341626237414134\n",
       "\\item 0.353808874309785\n",
       "\\item 0.359246071710885\n",
       "\\item 0.362097803814997\n",
       "\\item 0.364603096116716\n",
       "\\item 0.366279407858348\n",
       "\\item 0.36797197632093\n",
       "\\item 0.369397140824258\n",
       "\\item 0.37042752060892\n",
       "\\item 0.37056367313455\n",
       "\\item 0.37056594519335\n",
       "\\item 0.370565448712361\n",
       "\\end{enumerate*}\n"
      ],
      "text/markdown": [
       "1. 0.262725009111453\n",
       "2. 0.309330875663203\n",
       "3. 0.0427602760045115\n",
       "4. 0.341626237414134\n",
       "5. 0.353808874309785\n",
       "6. 0.359246071710885\n",
       "7. 0.362097803814997\n",
       "8. 0.364603096116716\n",
       "9. 0.366279407858348\n",
       "10. 0.36797197632093\n",
       "11. 0.369397140824258\n",
       "12. 0.37042752060892\n",
       "13. 0.37056367313455\n",
       "14. 0.37056594519335\n",
       "15. 0.370565448712361\n",
       "\n",
       "\n"
      ],
      "text/plain": [
       " [1] 0.26272501 0.30933088 0.04276028 0.34162624 0.35380887 0.35924607\n",
       " [7] 0.36209780 0.36460310 0.36627941 0.36797198 0.36939714 0.37042752\n",
       "[13] 0.37056367 0.37056595 0.37056545"
      ]
     },
     "metadata": {},
     "output_type": "display_data"
    },
    {
     "data": {
      "image/png": "[encoded data removed]"
     },
     "metadata": {},
     "output_type": "display_data"
    }
   ],
   "source": [
    "regfit.stp=regsubsets(int_rt~.,data=df.data.1,nvmax=17, method=\"seqrep\") \n",
    "plot(regfit.stp)\n",
    "reg.summary = summary(regfit.stp) \n",
    "        \n",
    "print(\"['fico','dt_first_pi','flag_fthb','dt_matr','cd_msa','mi_pct','cnt_units', 'occpy_sts','cltv','dti','orig_upb','ltv','int_rt','channel','ppmt_pnlty','prod_type','st', 'prop_type','zipcode','id_loan','loan_purpose', \n",
    "       'orig_loan_term','cnt_borr','seller_name','servicer_name', 'flag_sc']\")\n",
    "\n",
    "names(reg.summary)\n",
    "reg.summary$rss\n",
    "reg.summary$adjr2  "
   ]
  },
  {
   "cell_type": "markdown",
   "metadata": {},
   "source": [
    "### Random Forest Algorithm with train data = Q12007 and test data = Q22007  "
   ]
  },
  {
   "cell_type": "code",
   "execution_count": 19,
   "metadata": {
    "collapsed": false
   },
   "outputs": [
    {
     "name": "stdout",
     "output_type": "stream",
     "text": [
      "rms_train =  0.0187770471173    rms_test =  0.104282642307\n",
      "mae_train =  0.0996706518608    mae_test =  0.260233029966\n",
      "mape_train =  1.9459029186358814    mape_test =  5.370883050888085\n",
      "mean_interest_train =  5.12591509631 mean_interest_test =  5.07332604867\n"
     ]
    }
   ],
   "source": [
    "from sklearn.metrics import mean_squared_error, mean_absolute_error\n",
    "from sklearn.ensemble import RandomForestRegressor\n",
    "from sklearn.neighbors import KNeighborsRegressor\n",
    "import numpy as np\n",
    "\n",
    "\n",
    "rf = RandomForestRegressor(n_estimators=15)\n",
    "rf.fit(x_train, y_train.values.ravel())\n",
    "\n",
    "data_estimate_train = rf.predict(x_train)\n",
    "data_estimate_test = rf.predict(x_test)\n",
    "\n",
    "rms_train = mean_squared_error(y_train, data_estimate_train)\n",
    "rms_test = mean_squared_error(y_test, data_estimate_test)\n",
    "\n",
    "mae_train = mean_absolute_error(y_train, data_estimate_train)\n",
    "mae_test = mean_absolute_error(y_test, data_estimate_test)\n",
    "\n",
    "mape_train = np.mean(np.abs((y_train - data_estimate_train) / y_train)) * 100\n",
    "mape_test = np.mean(np.abs((y_test - data_estimate_test) / y_test)) * 100\n",
    "\n",
    "\n",
    "print(\"rms_train = \",rms_train,\"   rms_test = \",rms_test )\n",
    "print(\"mae_train = \" ,mae_train ,\"   mae_test = \",mae_test )\n",
    "print(\"mape_train = \" ,float(mape_train),\"   mape_test = \",float(mape_test))\n",
    "print(\"mean_interest_train = \",np.mean(data_estimate_train),\"mean_interest_test = \",np.mean(data_estimate_test))"
   ]
  },
  {
   "cell_type": "code",
   "execution_count": null,
   "metadata": {
    "collapsed": true
   },
   "outputs": [],
   "source": [
    "### Random Forest Algorithm with train data = Q22007 and test data = Q32007  "
   ]
  },
  {
   "cell_type": "code",
   "execution_count": 21,
   "metadata": {
    "collapsed": false
   },
   "outputs": [
    {
     "name": "stdout",
     "output_type": "stream",
     "text": [
      "rms_train =  0.0112466296893    rms_test =  0.0730066831499\n",
      "mae_train =  0.0769147876276    mae_test =  0.209861812121\n",
      "mape_train =  1.5529447508502447    mape_test =  4.217573087951447\n",
      "mean_interest_train =  4.92718963382 mean_interest_test =  4.88756656339\n"
     ]
    }
   ],
   "source": [
    "from sklearn.metrics import mean_squared_error, mean_absolute_error\n",
    "from sklearn.ensemble import RandomForestRegressor\n",
    "from sklearn.neighbors import KNeighborsRegressor\n",
    "\n",
    "rf = RandomForestRegressor(n_estimators=15)\n",
    "rf.fit(x_train, y_train.values.ravel())\n",
    "\n",
    "data_estimate_train = rf.predict(x_train)\n",
    "data_estimate_test = rf.predict(x_test)\n",
    "\n",
    "rms_train = mean_squared_error(y_train, data_estimate_train)\n",
    "rms_test = mean_squared_error(y_test, data_estimate_test)\n",
    "\n",
    "mae_train = mean_absolute_error(y_train, data_estimate_train)\n",
    "mae_test = mean_absolute_error(y_test, data_estimate_test)\n",
    "\n",
    "mape_train = np.mean(np.abs((y_train - data_estimate_train) / y_train)) * 100\n",
    "mape_test = np.mean(np.abs((y_test - data_estimate_test) / y_test)) * 100\n",
    "\n",
    "print(\"rms_train = \",rms_train,\"   rms_test = \",rms_test )\n",
    "print(\"mae_train = \" ,mae_train ,\"   mae_test = \",mae_test )\n",
    "print(\"mape_train = \" ,float(mape_train),\"   mape_test = \",float(mape_test))\n",
    "print(\"mean_interest_train = \",np.mean(data_estimate_train),\"mean_interest_test = \",np.mean(data_estimate_test))"
   ]
  },
  {
   "cell_type": "markdown",
   "metadata": {},
   "source": [
    "### Random Forest Algorithm with train data = Q32007 and test data = Q42007  "
   ]
  },
  {
   "cell_type": "code",
   "execution_count": 10,
   "metadata": {
    "collapsed": false
   },
   "outputs": [
    {
     "name": "stdout",
     "output_type": "stream",
     "text": [
      "rms_train =  0.0214698066654    rms_test =  0.255924996718\n",
      "mae_train =  0.106166786862    mae_test =  0.410627892459\n",
      "mape_train =  1.599633149314283    mape_test =  6.6554367510884695\n",
      "mean_interest_train =  6.66395032243 mean_interest_test =  6.64942108236\n"
     ]
    }
   ],
   "source": [
    "from sklearn.metrics import mean_squared_error, mean_absolute_error\n",
    "from sklearn.ensemble import RandomForestRegressor\n",
    "from sklearn.neighbors import KNeighborsRegressor\n",
    "\n",
    "rf = RandomForestRegressor(n_estimators=15)\n",
    "rf.fit(x_train, y_train.values.ravel())\n",
    "\n",
    "data_estimate_train = rf.predict(x_train)\n",
    "data_estimate_test = rf.predict(x_test)\n",
    "\n",
    "rms_train = mean_squared_error(y_train, data_estimate_train)\n",
    "rms_test = mean_squared_error(y_test, data_estimate_test)\n",
    "\n",
    "mae_train = mean_absolute_error(y_train, data_estimate_train)\n",
    "mae_test = mean_absolute_error(y_test, data_estimate_test)\n",
    "\n",
    "mape_train = np.mean(np.abs((y_train - data_estimate_train) / y_train)) * 100\n",
    "mape_test = np.mean(np.abs((y_test - data_estimate_test) / y_test)) * 100\n",
    "\n",
    "print(\"rms_train = \",rms_train,\"   rms_test = \",rms_test )\n",
    "print(\"mae_train = \" ,mae_train ,\"   mae_test = \",mae_test )\n",
    "print(\"mape_train = \" ,float(mape_train),\"   mape_test = \",float(mape_test))\n",
    "print(\"mean_interest_train = \",np.mean(data_estimate_train),\"mean_interest_test = \",np.mean(data_estimate_test))"
   ]
  },
  {
   "cell_type": "code",
   "execution_count": null,
   "metadata": {
    "collapsed": true
   },
   "outputs": [],
   "source": [
    "### Random Forest Algorithm with train data = Q42007 and test data = Q12008  "
   ]
  },
  {
   "cell_type": "code",
   "execution_count": 12,
   "metadata": {
    "collapsed": false
   },
   "outputs": [
    {
     "name": "stdout",
     "output_type": "stream",
     "text": [
      "rms_train =  0.0253632547068    rms_test =  0.474052868383\n",
      "mae_train =  0.115710810831    mae_test =  0.580654761959\n",
      "mape_train =  1.8196654988012189    mape_test =  10.329377656948878\n",
      "mean_interest_train =  6.35899465151 mean_interest_test =  6.37215573957\n"
     ]
    }
   ],
   "source": [
    "from sklearn.metrics import mean_squared_error, mean_absolute_error\n",
    "from sklearn.ensemble import RandomForestRegressor\n",
    "from sklearn.neighbors import KNeighborsRegressor\n",
    "\n",
    "rf = RandomForestRegressor(n_estimators=15)\n",
    "rf.fit(x_train, y_train.values.ravel())\n",
    "\n",
    "data_estimate_train = rf.predict(x_train)\n",
    "data_estimate_test = rf.predict(x_test)\n",
    "\n",
    "rms_train = mean_squared_error(y_train, data_estimate_train)\n",
    "rms_test = mean_squared_error(y_test, data_estimate_test)\n",
    "\n",
    "mae_train = mean_absolute_error(y_train, data_estimate_train)\n",
    "mae_test = mean_absolute_error(y_test, data_estimate_test)\n",
    "\n",
    "mape_train = np.mean(np.abs((y_train - data_estimate_train) / y_train)) * 100\n",
    "mape_test = np.mean(np.abs((y_test - data_estimate_test) / y_test)) * 100\n",
    "\n",
    "print(\"rms_train = \",rms_train,\"   rms_test = \",rms_test )\n",
    "print(\"mae_train = \" ,mae_train ,\"   mae_test = \",mae_test )\n",
    "print(\"mape_train = \" ,float(mape_train),\"   mape_test = \",float(mape_test))\n",
    "print(\"mean_interest_train = \",np.mean(data_estimate_train),\"mean_interest_test = \",np.mean(data_estimate_test))"
   ]
  }
 ],
 "metadata": {
  "anaconda-cloud": {},
  "kernelspec": {
   "display_name": "Python [conda root]",
   "language": "python",
   "name": "conda-root-py"
  },
  "language_info": {
   "codemirror_mode": {
    "name": "ipython",
    "version": 3
   },
   "file_extension": ".py",
   "mimetype": "text/x-python",
   "name": "python",
   "nbconvert_exporter": "python",
   "pygments_lexer": "ipython3",
   "version": "3.5.2"
  }
 },
 "nbformat": 4,
 "nbformat_minor": 1
}
