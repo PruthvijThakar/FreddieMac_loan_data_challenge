{
 "cells": [
  {
   "cell_type": "code",
   "execution_count": 21,
   "metadata": {
    "collapsed": true
   },
   "outputs": [],
   "source": [
    "import requests\n",
    "from lxml import html\n",
    "import os\n",
    "import sys\n",
    "import logging \n",
    "import shutil \n",
    "import zipfile\n",
    "import httplib2\n",
    "from bs4 import BeautifulSoup, SoupStrainer\n",
    "import logging \n",
    "import pandas as pd\n",
    "import glob\n",
    "import numpy as np\n",
    "import csv\n",
    "import requests"
   ]
  },
  {
   "cell_type": "code",
   "execution_count": 15,
   "metadata": {
    "collapsed": false
   },
   "outputs": [
    {
     "name": "stdout",
     "output_type": "stream",
     "text": [
      "sample_orig_2005\n",
      "sample_orig_2006\n",
      "sample_orig_2007\n",
      "sample_orig_2008\n",
      "sample_orig_2009\n",
      "sample_orig_2010\n",
      "sample_orig_2011\n",
      "sample_orig_2012\n",
      "sample_orig_2013\n",
      "sample_orig_2014\n",
      "sample_orig_2015\n",
      "sample_orig_2016\n"
     ]
    }
   ],
   "source": [
    "files = glob.glob('Sample_zipfiles' + '/sample_orig*.txt' )\n",
    "for f in files:\n",
    "    print(f[16:32])"
   ]
  },
  {
   "cell_type": "code",
   "execution_count": 44,
   "metadata": {
    "collapsed": false
   },
   "outputs": [],
   "source": [
    "\n",
    "def dataCleaning_sample_origination(year):\n",
    "    files = 'Sample_zipfiles/sample_orig_'+ str(year) + '.txt'\n",
    "    \n",
    "    if not os.path.exists('Sample_origin_clean'):\n",
    "        os.makedirs('Sample_origin_clean', mode=0o777, exist_ok=False)\n",
    "        \n",
    "    data_1 = pd.read_csv(files,sep=\"|\", header = None,low_memory=False)\n",
    "\n",
    "    data_1.columns = ['fico','dt_first_pi','flag_fthb','dt_matr','cd_msa',\"mi_pct\",'cnt_units',\n",
    "                      'occpy_sts','cltv','dti','orig_upb','ltv','int_rt','channel','ppmt_pnlty',\n",
    "                      'prod_type','st', 'prop_type','zipcode','id_loan','loan_purpose', \n",
    "                      'orig_loan_term','cnt_borr','seller_name','servicer_name', 'flag_sc']\n",
    "\n",
    "    data_1.fico = data_1.fico.replace(r'\\s+', np.nan, regex=True).astype('float64')\n",
    "    data_1.update(data_1[['fico']].fillna(data_1['fico'].mode()[0]))\n",
    "\n",
    "\n",
    "    data_1.flag_fthb = data_1.flag_fthb.replace(r'\\s+', np.nan, regex=True)\n",
    "    data_1['flag_fthb'] = (data_1[['flag_fthb']].fillna(3))\n",
    "    data_1.flag_fthb.replace('N', 0 , inplace = True)\n",
    "    data_1.flag_fthb.replace('Y', 0 , inplace = True)\n",
    "    data_1.flag_fthb = data_1.flag_fthb.astype('category')\n",
    "\n",
    "    data_1.mi_pct = data_1.mi_pct.replace(r'\\s+', np.nan, regex=True)\n",
    "    data_1.mi_pct = data_1.mi_pct.astype('float64')\n",
    "    mean = data_1.mi_pct.mean()\n",
    "    data_1['mi_pct'] = (data_1[['mi_pct']].fillna(mean))\n",
    "\n",
    "    data_1.cnt_units = data_1.cnt_units.replace(r'\\s+', np.nan, regex=True)\n",
    "    data_1.update(data_1[['cnt_units']].fillna(0))\n",
    "\n",
    "    data_1.occpy_sts = data_1.occpy_sts.replace(r'\\s+', np.nan, regex=True)\n",
    "    data_1['occpy_sts'] = (data_1[['occpy_sts']].fillna(0))\n",
    "    data_1.occpy_sts.replace('O', 1 , inplace = True)\n",
    "    data_1.occpy_sts.replace('I', 2 , inplace = True)\n",
    "    data_1.occpy_sts.replace('S', 3 , inplace = True)\n",
    "    data_1.occpy_sts = data_1.occpy_sts.astype('category')\n",
    "\n",
    "    data_1.cltv = data_1.cltv.replace(r'\\s+', np.nan, regex=True).astype('float64')\n",
    "    data_1.update(data_1[['cltv']].fillna(data_1['cltv'].mean()))\n",
    "\n",
    "    data_1.dti = data_1.dti.replace(r'\\s+', np.nan, regex=True).astype('float64')\n",
    "    data_1.update(data_1[['dti']].fillna(65))\n",
    "\n",
    "    data_1.ltv = data_1.ltv.replace(r'\\s+', np.nan, regex=True)\n",
    "    data_1.ltv = data_1.ltv.astype('float64')\n",
    "    mean = data_1.ltv.mean()\n",
    "    data_1['ltv'] = (data_1[['ltv']].fillna(mean))\n",
    "    \n",
    "    data_1.int_rt = data_1.int_rt.replace(r'\\s+', np.nan, regex=True)\n",
    "    data_1.int_rt = data_1.int_rt.astype('float64')\n",
    "    mean_int_rt = data_1.int_rt.mean()\n",
    "    data_1['int_rt'] = data_1[['int_rt']].fillna(mean_int_rt)\n",
    "    data_1.int_rt = data_1.int_rt.astype('float64')\n",
    "\n",
    "    data_1.channel = data_1.channel.replace(r'\\s+', np.nan, regex=True)\n",
    "    data_1['channel'] = (data_1[['channel']].fillna(0))\n",
    "    data_1.channel.replace('R', 1 , inplace = True)\n",
    "    data_1.channel.replace('B', 2 , inplace = True)\n",
    "    data_1.channel.replace('C', 3 , inplace = True)\n",
    "    data_1.channel.replace('T', 4 , inplace = True)\n",
    "    data_1.channel = data_1.channel.astype('category')\n",
    "\n",
    "    data_1.ppmt_pnlty = data_1.ppmt_pnlty.replace(r'\\s+', np.nan, regex=True)\n",
    "    data_1['ppmt_pnlty'] = (data_1[['ppmt_pnlty']].fillna(2))\n",
    "    data_1.ppmt_pnlty.replace('Y', 1 , inplace = True)\n",
    "    data_1.ppmt_pnlty.replace('N', 0 , inplace = True)\n",
    "    data_1.ppmt_pnlty = data_1.ppmt_pnlty.astype('category')\n",
    "\n",
    "    data_1.prop_type = data_1.prop_type.replace(r'\\s+', np.nan, regex=True)\n",
    "    data_1['prop_type'] = (data_1[['prop_type']].fillna(0))\n",
    "    data_1.prop_type.replace('P', 1 , inplace = True)\n",
    "    data_1.prop_type.replace('SF', 1 , inplace = True)\n",
    "    data_1.prop_type.replace('CO', 2 , inplace = True)\n",
    "    data_1.prop_type.replace('PU', 3 , inplace = True)\n",
    "    data_1.prop_type.replace('MH', 4 , inplace = True)\n",
    "    data_1.prop_type.replace('LH', 5 , inplace = True)\n",
    "    data_1.prop_type.replace('CP', 6 , inplace = True)\n",
    "\n",
    "\n",
    "    data_1.zipcode = data_1.zipcode.replace(r'\\s+', np.nan, regex=True)\n",
    "    data_1['zipcode'] = (data_1[['zipcode']].fillna(0))\n",
    "    data_1.zipcode.replace(np.nan, 0 , inplace = True)\n",
    "\n",
    "    data_1.loan_purpose = data_1.loan_purpose.replace(r'\\s+', np.nan, regex=True)\n",
    "    data_1['loan_purpose'] = (data_1[['loan_purpose']].fillna(0))\n",
    "    data_1.loan_purpose.replace('P', 1 , inplace = True)\n",
    "    data_1.loan_purpose.replace('C', 2 , inplace = True)\n",
    "    data_1.loan_purpose.replace('N', 3 , inplace = True)\n",
    "    \n",
    "    data_1['cd_msa'] = (data_1[['cd_msa']].fillna(0))\n",
    "    data_1.cd_msa.replace( 0,np.nan,inplace = True)\n",
    "\n",
    "    data_1.cnt_borr = data_1.cnt_borr.replace(r'\\s+', np.nan, regex=True)\n",
    "    data_1['cnt_borr'] = (data_1[['cnt_borr']].fillna(0))\n",
    "    data_1.cnt_borr = data_1.cnt_borr.astype('category')\n",
    "    \n",
    "    \n",
    "    \n",
    "    clean_filename = 'sample_orig_'+ str(year)+'_clean.csv'\n",
    "    \n",
    "    data_1.to_csv(os.path.join('Sample_origin_clean',clean_filename), index = False)\n",
    "    \n",
    "    print('The sample summary origination files for year ' + str(year) + ' are cleaned and stored')\n",
    "    \n",
    "    \n",
    "    "
   ]
  },
  {
   "cell_type": "code",
   "execution_count": 45,
   "metadata": {
    "collapsed": false
   },
   "outputs": [
    {
     "name": "stdout",
     "output_type": "stream",
     "text": [
      "The sample origination files for year 2007 are cleaned and stored\n",
      "The sample origination files for year 2008 are cleaned and stored\n",
      "The sample origination files for year 2009 are cleaned and stored\n"
     ]
    }
   ],
   "source": [
    "dataCleaning_sample_origination(2007)\n",
    "dataCleaning_sample_origination(2008)\n",
    "dataCleaning_sample_origination(2009)"
   ]
  },
  {
   "cell_type": "code",
   "execution_count": 43,
   "metadata": {
    "collapsed": true
   },
   "outputs": [],
   "source": [
    "def dataCleaning_sample_performance(year):\n",
    "    \n",
    "    files1 = 'Sample_zipfiles/sample_svcg_'+ str(year) + '.txt'\n",
    "    \n",
    "    if not os.path.exists('Sample_performance_clean'):\n",
    "        os.makedirs('Sample_performance_clean', mode=0o777, exist_ok=False)\n",
    "        \n",
    "    data_chunks = pd.read_csv(files1 ,sep=\"|\", header = None,low_memory=False)\n",
    "    \n",
    "    data_chunks.columns = ['id_loan','svcg_cycle','current_upb','delq_sts','loan_age','mths_remng',\n",
    "                           'repch_flag','flag_mod', 'cd_zero_bal',\n",
    "                           'dt_zero_bal','current_int_rt','non_int_brng_upb','dt_lst_pi','mi_recoveries',\n",
    "                           'net_sale_proceeds','non_mi_recoveries','expenses', 'legal_costs',\n",
    "                           'maint_pres_costs','taxes_ins_costs','misc_costs','actual_loss', 'modcost']\n",
    "\n",
    "    \n",
    "    data_chunks.delq_sts.replace('R', 1 , inplace = True)\n",
    "    data_chunks.delq_sts = data_chunks.delq_sts.astype('float64')     \n",
    "\n",
    "\n",
    "    data_chunks.repch_flag.replace(np.nan, 2 , inplace = True)\n",
    "    data_chunks.repch_flag.replace('N', 0 , inplace = True)\n",
    "    data_chunks.repch_flag.replace('Y', 1 , inplace = True)\n",
    "    data_chunks.repch_flag = data_chunks.repch_flag.astype('float64')\n",
    "\n",
    "    data_chunks.flag_mod.replace(np.nan,0,inplace = True)\n",
    "    data_chunks.flag_mod.replace('Y',1,inplace = True)\n",
    "    data_chunks.flag_mod = data_chunks.flag_mod.astype('float64')\n",
    "\n",
    "    data_chunks.cd_zero_bal.replace(np.nan,0,inplace = True)\n",
    "    data_chunks.cd_zero_bal = data_chunks.cd_zero_bal.astype('float64')\n",
    "\n",
    "    data_chunks.dt_zero_bal.replace(np.nan,0,inplace = True)\n",
    "    data_chunks.dt_zero_bal = data_chunks.dt_zero_bal.astype('int64')\n",
    "\n",
    "    data_chunks.dt_lst_pi.replace(np.nan,0,inplace = True)\n",
    "    data_chunks.dt_lst_pi = data_chunks.dt_lst_pi.astype('int64')\n",
    "\n",
    "    data_chunks.mi_recoveries.replace(np.nan,0,inplace = True)\t\n",
    "\n",
    "    data_chunks.non_mi_recoveries.replace(np.nan, 0,inplace = True)\n",
    "\n",
    "    data_chunks.net_sale_proceeds.replace(np.nan, 0,inplace = True)\n",
    "    data_chunks.net_sale_proceeds.replace('C', 1, inplace = True)\n",
    "    data_chunks.net_sale_proceeds.replace('U', 0, inplace = True)\n",
    "    data_chunks.net_sale_proceeds = data_chunks.net_sale_proceeds.astype('float64')\n",
    "\n",
    "    data_chunks.expenses.replace(np.nan, 0,inplace = True)\n",
    "    data_chunks.legal_costs.replace(np.nan, 0,inplace = True)\n",
    "    data_chunks.maint_pres_costs.replace(np.nan, 0,inplace = True)\n",
    "    data_chunks.taxes_ins_costs.replace(np.nan, 0,inplace = True)\n",
    "    data_chunks.misc_costs.replace(np.nan, 0,inplace = True)\n",
    "    data_chunks.actual_loss.replace(np.nan, 0,inplace = True)\n",
    "    data_chunks.modcost.replace(np.nan, 0,inplace = True)\n",
    "    data_chunks['new_delinq'] = (data_chunks.delq_sts > 0.0).astype('float64')\n",
    "    \n",
    "    clean_filename = 'sample_svcg_'+ str(year)+'_clean.csv'\n",
    "    \n",
    "    data_chunks.to_csv(os.path.join('Sample_performance_clean',clean_filename), index = False)\n",
    "    \n",
    "    print('The sample summary performance files for year ' + str(year) + ' are cleaned and stored')\n",
    "\n"
   ]
  },
  {
   "cell_type": "code",
   "execution_count": 41,
   "metadata": {
    "collapsed": false
   },
   "outputs": [
    {
     "name": "stdout",
     "output_type": "stream",
     "text": [
      "The sample performance files for year 2007 are cleaned and stored\n"
     ]
    }
   ],
   "source": [
    "dataCleaning_sample_performance(2007)"
   ]
  },
  {
   "cell_type": "code",
   "execution_count": 42,
   "metadata": {
    "collapsed": false
   },
   "outputs": [
    {
     "name": "stdout",
     "output_type": "stream",
     "text": [
      "The sample performance files for year 2008 are cleaned and stored\n",
      "The sample performance files for year 2009 are cleaned and stored\n"
     ]
    }
   ],
   "source": [
    "dataCleaning_sample_performance(2008)\n",
    "dataCleaning_sample_performance(2009)"
   ]
  },
  {
   "cell_type": "code",
   "execution_count": 49,
   "metadata": {
    "collapsed": true
   },
   "outputs": [],
   "source": [
    "files = glob.glob('Sample_origin_clean/*'  )\n",
    "i = 0\n",
    "for f in files:\n",
    "    if(i==0):\n",
    "        df1 = pd.read_csv(os.path.join('Sample_origin_clean','sample_orig_2007_clean.csv'),low_memory=False)\n",
    "        df1.to_csv('origin_EDA_files.csv',index = False)\n",
    "    else:\n",
    "        df2 = pd.read_csv(f,low_memory=False)\n",
    "        with open('origin_EDA_files.csv','a') as agg:\n",
    "            df2.to_csv(agg, index = False, header=False)\n",
    "    i=i+1"
   ]
  },
  {
   "cell_type": "code",
   "execution_count": 50,
   "metadata": {
    "collapsed": true
   },
   "outputs": [],
   "source": [
    "files = glob.glob('Sample_performance_clean/*' )\n",
    "j = 0\n",
    "for f in files:\n",
    "    if(j==0):\n",
    "        df1 = pd.read_csv(os.path.join('Sample_performance_clean','sample_svcg_2007_clean.csv'),low_memory=False)\n",
    "        df1.to_csv('performance_EDA_files.csv',index = False)\n",
    "    else:\n",
    "        df2 = pd.read_csv(f,low_memory=False)\n",
    "        with open('performance_EDA_files.csv','a') as agg:\n",
    "            df2.to_csv(agg,index = False, header=False)\n",
    "    j=j+1"
   ]
  },
  {
   "cell_type": "code",
   "execution_count": 57,
   "metadata": {
    "collapsed": false
   },
   "outputs": [],
   "source": [
    "ddff = pd.read_csv('origin_EDA_files.csv',low_memory=False)\n",
    "ddff['dt_first_pi'] = pd.to_datetime(ddff['dt_first_pi'], format='%Y%m')"
   ]
  },
  {
   "cell_type": "markdown",
   "metadata": {},
   "source": [
    "### Inserting Quarter to ease the quarterly based analysis"
   ]
  },
  {
   "cell_type": "code",
   "execution_count": 64,
   "metadata": {
    "collapsed": false
   },
   "outputs": [],
   "source": [
    "\n",
    "ddff['Quarter']=ddff['dt_first_pi'].dt.month\n",
    "ddff.Quarter.replace(('1','2','3'), 1, inplace = True)\n",
    "ddff.Quarter.replace(('4','5','6'), 2, inplace = True)\n",
    "ddff.Quarter.replace(('7','8','9'), 3, inplace = True)\n",
    "ddff.Quarter.replace(('10','11','12'), 4, inplace = True)"
   ]
  },
  {
   "cell_type": "code",
   "execution_count": 66,
   "metadata": {
    "collapsed": false
   },
   "outputs": [],
   "source": [
    "ddff['year']=ddff['dt_first_pi'].dt.year"
   ]
  },
  {
   "cell_type": "code",
   "execution_count": 213,
   "metadata": {
    "collapsed": false
   },
   "outputs": [
    {
     "data": {
      "text/plain": [
       "<matplotlib.axes._subplots.AxesSubplot at 0x27e8dbaa588>"
      ]
     },
     "execution_count": 213,
     "metadata": {},
     "output_type": "execute_result"
    },
    {
     "data": {
      "image/png": "[encoded data removed]",
      "text/plain": [
       "<matplotlib.figure.Figure at 0x27e8ce8fb70>"
      ]
     },
     "metadata": {},
     "output_type": "display_data"
    }
   ],
   "source": [
    "df = ddff.groupby(['year', 'Quarter'])[[\"int_rt\"]].mean()\n",
    "import matplotlib.pyplot as plt\n",
    "f, a = plt.subplots(3,1)\n",
    "f.set_figheight(15)\n",
    "f.set_figwidth(15)\n",
    "df.xs(2007).plot(kind='bar',ax=a[0],ylim = [6,7])\n",
    "df.xs(2008).plot(kind='bar',ax=a[1],ylim = [5.5,7])\n",
    "df.xs(2009).plot(kind='bar',ax=a[2],ylim = [4.5,6])\n"
   ]
  },
  {
   "cell_type": "code",
   "execution_count": 208,
   "metadata": {
    "collapsed": false
   },
   "outputs": [
    {
     "data": {
      "text/plain": [
       "<matplotlib.axes._subplots.AxesSubplot at 0x27e8b865748>"
      ]
     },
     "execution_count": 208,
     "metadata": {},
     "output_type": "execute_result"
    },
    {
     "data": {
      "image/png": "[encoded data removed]",
      "text/plain": [
       "<matplotlib.figure.Figure at 0x27e8a31fe48>"
      ]
     },
     "metadata": {},
     "output_type": "display_data"
    }
   ],
   "source": [
    "df = ddff.groupby(['year', 'Quarter'])[[\"fico\"]].mean()\n",
    "import matplotlib.pyplot as plt\n",
    "f, a = plt.subplots(3,1)\n",
    "f.set_figheight(15)\n",
    "f.set_figwidth(15)\n",
    "seq = [700,730]\n",
    "df.xs(2007).plot(kind='bar',ax=a[0],ylim = seq)\n",
    "df.xs(2008).plot(kind='bar',ax=a[1],ylim = [720,750])\n",
    "df.xs(2009).plot(kind='bar',ax=a[2],ylim = [740,770])\n"
   ]
  },
  {
   "cell_type": "code",
   "execution_count": null,
   "metadata": {
    "collapsed": false
   },
   "outputs": [],
   "source": [
    "df = ddff.groupby(['st'])[\"int_rt\"].mean()\n",
    "df.sort_values().plot(kind='line')"
   ]
  },
  {
   "cell_type": "markdown",
   "metadata": {},
   "source": [
    "### The maximum interest rate is in Virginia with 6.25% and minimum in Hawaii with 5.56%"
   ]
  },
  {
   "cell_type": "code",
   "execution_count": null,
   "metadata": {
    "collapsed": false
   },
   "outputs": [],
   "source": [
    "df = ddff.groupby(['st'])[\"fico\"].mean()\n",
    "df.sort_values().plot(kind='line')"
   ]
  },
  {
   "cell_type": "code",
   "execution_count": 239,
   "metadata": {
    "collapsed": true
   },
   "outputs": [],
   "source": [
    "performance_df = pd.read_csv('performance_EDA_files.csv',low_memory=False)\n"
   ]
  },
  {
   "cell_type": "code",
   "execution_count": 241,
   "metadata": {
    "collapsed": false
   },
   "outputs": [
    {
     "data": {
      "text/plain": [
       "(7377106, 24)"
      ]
     },
     "execution_count": 241,
     "metadata": {},
     "output_type": "execute_result"
    }
   ],
   "source": [
    "performance_df.shape"
   ]
  },
  {
   "cell_type": "code",
   "execution_count": null,
   "metadata": {
    "collapsed": true
   },
   "outputs": [],
   "source": [
    "df = performance_df.groupby(['id_loan'])[\"fico\"].mean()"
   ]
  },
  {
   "cell_type": "code",
   "execution_count": 228,
   "metadata": {
    "collapsed": false
   },
   "outputs": [],
   "source": [
    "import datetime as DT\n",
    "import hmac\n",
    "from geopy.geocoders import Nominatim\n",
    "from geopy.distance import vincenty"
   ]
  },
  {
   "cell_type": "code",
   "execution_count": 236,
   "metadata": {
    "collapsed": false
   },
   "outputs": [],
   "source": [
    "# geolocator = Nominatim()\n",
    "# ddff['city_coord'] = ddff['st'].apply(geolocator.geocode)"
   ]
  },
  {
   "cell_type": "code",
   "execution_count": 245,
   "metadata": {
    "collapsed": false
   },
   "outputs": [
    {
     "data": {
      "text/plain": [
       "{\"City\": \"New York\", \"Density\": 34035.48387096774, \"HouseOfUnits\": 12476, \"LandArea\": 0.62, \"Latitude\": 40.75368539999999, \"Longitude\": -73.9991637, \"NEBoundLatitude\": 40.8282129, \"NEBoundLongitude\": -73.9321059, \"Population\": 21102, \"SWBoundLatitude\": 40.743451, \"SWBoungLongitude\": -74.00794499999998, \"State\": \"NY\", \"TotalWages\": 1031960117.0, \"WaterArea\": 0.0, \"Wealthy\": 48903.42702113544, \"Zipcode\": \"10001\", \"ZipcodeType\": \"Standard\"}"
      ]
     },
     "execution_count": 245,
     "metadata": {},
     "output_type": "execute_result"
    }
   ],
   "source": [
    "from uszipcode import ZipcodeSearchEngine\n",
    "search = ZipcodeSearchEngine()\n"
   ]
  },
  {
   "cell_type": "code",
   "execution_count": 256,
   "metadata": {
    "collapsed": false
   },
   "outputs": [],
   "source": [
    "dfList = ddff['zipcode'].tolist()\n"
   ]
  },
  {
   "cell_type": "markdown",
   "metadata": {},
   "source": [
    "### Method for laveraging the zipcode column which will return the city and state of the zipcode present in the column"
   ]
  },
  {
   "cell_type": "code",
   "execution_count": 251,
   "metadata": {
    "collapsed": true
   },
   "outputs": [],
   "source": [
    "\n",
    "\n",
    "\n",
    "def getCityState(zipCode):\n",
    "# given zip code, return city and state if available\n",
    "    zipCode = str(zipCode)\n",
    "    url = \"http://www.city-data.com/zips/\" + zipCode + \".html\"\n",
    "    r = requests.get(url)\n",
    "    data = r.text\n",
    "    soup = BeautifulSoup(data)\n",
    "    if soup.findAll(text=\"City:\") ==[]:\n",
    "        cityNeeded = soup.findAll(text=\"Cities:\")\n",
    "        for t in cityNeeded:\n",
    "            return t.find_next('a').string\n",
    "\n",
    "    else:\n",
    "        cityNeeded = soup.findAll(text=\"City:\")\n",
    "        for t in cityNeeded:\n",
    "            return t.find_next('a').string      \n"
   ]
  },
  {
   "cell_type": "code",
   "execution_count": null,
   "metadata": {
    "collapsed": false
   },
   "outputs": [
    {
     "name": "stderr",
     "output_type": "stream",
     "text": [
      "C:\\Users\\pruth\\Anaconda3\\lib\\site-packages\\bs4\\__init__.py:181: UserWarning: No parser was explicitly specified, so I'm using the best available HTML parser for this system (\"lxml\"). This usually isn't a problem, but if you run this code on another system, or in a different virtual environment, it may use a different parser and behave differently.\n",
      "\n",
      "The code that caused this warning is on line 184 of the file C:\\Users\\pruth\\Anaconda3\\lib\\runpy.py. To get rid of this warning, change code that looks like this:\n",
      "\n",
      " BeautifulSoup([your markup])\n",
      "\n",
      "to this:\n",
      "\n",
      " BeautifulSoup([your markup], \"lxml\")\n",
      "\n",
      "  markup_type=markup_type))\n"
     ]
    }
   ],
   "source": [
    "zip_detail = []\n",
    "for z in dfList:\n",
    "    zip_detail.append(getCityState(z))"
   ]
  },
  {
   "cell_type": "code",
   "execution_count": null,
   "metadata": {
    "collapsed": true
   },
   "outputs": [],
   "source": [
    "res = performance_df.groupby('id_loan')['loan_age'].max().reset_index()\n",
    "res.columns = ['id_loan', 'loan_age']\n",
    "res"
   ]
  },
  {
   "cell_type": "code",
   "execution_count": null,
   "metadata": {
    "collapsed": true
   },
   "outputs": [],
   "source": []
  }
 ],
 "metadata": {
  "anaconda-cloud": {},
  "kernelspec": {
   "display_name": "Python [conda root]",
   "language": "python",
   "name": "conda-root-py"
  },
  "language_info": {
   "codemirror_mode": {
    "name": "ipython",
    "version": 3
   },
   "file_extension": ".py",
   "mimetype": "text/x-python",
   "name": "python",
   "nbconvert_exporter": "python",
   "pygments_lexer": "ipython3",
   "version": "3.5.2"
  }
 },
 "nbformat": 4,
 "nbformat_minor": 2
}
